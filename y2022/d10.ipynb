{
 "cells": [
  {
   "cell_type": "code",
   "execution_count": 64,
   "metadata": {},
   "outputs": [
    {
     "data": {
      "text/plain": [
       "[('noop',), ('noop',), ('addx', 5), ('noop',), ('noop',)]"
      ]
     },
     "execution_count": 64,
     "metadata": {},
     "output_type": "execute_result"
    }
   ],
   "source": [
    "import input\n",
    "\n",
    "data = [x.split(' ') for x in input.read_input(10).splitlines()]\n",
    "data = [(x[0], int(x[1])) if len(x) == 2 else (x[0],) for x in data]\n",
    "data[:5]"
   ]
  },
  {
   "cell_type": "code",
   "execution_count": 65,
   "metadata": {},
   "outputs": [
    {
     "name": "stdout",
     "output_type": "stream",
     "text": [
      "16 10\n",
      "17 21\n",
      "18 21\n",
      "18 21\n",
      "19 20\n",
      "20 20\n",
      "21 22\n",
      "22 22\n",
      "23 26\n",
      "24 26\n",
      "58 21\n",
      "98 21\n",
      "138 21\n",
      "178 14\n",
      "218 17\n",
      "12980\n"
     ]
    }
   ],
   "source": [
    "X = 1\n",
    "cycles = 0\n",
    "offset = 2\n",
    "\n",
    "ongoing_ops = []\n",
    "register_cycle = []\n",
    "\n",
    "signal_strength = 0\n",
    "\n",
    "def process_ongoing_ops():\n",
    "  global X, ongoing_ops, cycles, signal_strength\n",
    "  register_cycle.append(X)\n",
    "  \n",
    "  for i, (op_fn, t, *op_args) in enumerate(ongoing_ops):\n",
    "    if t == 0:\n",
    "      X = op_fn(X, *op_args)\n",
    "      ongoing_ops[i] = None\n",
    "    else:\n",
    "      ongoing_ops[i] = (op_fn, t-1, *op_args)\n",
    "  \n",
    "  ongoing_ops = [x for x in ongoing_ops if x is not None]\n",
    "  \n",
    "  if cycles % 40 - 20 + offset == 0:\n",
    "    print(cycles, X)\n",
    "    signal_strength += X * (cycles + offset)\n",
    "      \n",
    "  cycles += 1\n",
    "\n",
    "  if len(ongoing_ops) > 0:\n",
    "    process_ongoing_ops()\n",
    "\n",
    "def addx(register, v):\n",
    "  return register + v\n",
    "  \n",
    "def noop(register, *args):\n",
    "  return register\n",
    "  \n",
    "for op, *args in data:    \n",
    "  if op == 'noop':\n",
    "    ongoing_ops.append((noop, 0, *args))\n",
    "  elif op == 'addx':\n",
    "    ongoing_ops.append((addx, 1, *args))\n",
    "    \n",
    "  process_ongoing_ops()\n",
    "\n",
    "print(signal_strength)"
   ]
  },
  {
   "cell_type": "code",
   "execution_count": 69,
   "metadata": {},
   "outputs": [
    {
     "name": "stdout",
     "output_type": "stream",
     "text": [
      "###..###....##.#....####.#..#.#....###..\n",
      "#..#.#..#....#.#....#....#..#.#....#..#.\n",
      "###..#..#....#.#....###..#..#.#....#..#.\n",
      "#..#.###.....#.#....#....#..#.#....###..\n",
      "#..#.#.#..#..#.#....#....#..#.#....#....\n",
      "###..#..#..##..####.#.....##..####.#....\n"
     ]
    }
   ],
   "source": [
    "dimensions = (40, 6)\n",
    "grid = [[0 for x in range(dimensions[0])] for y in range(dimensions[1])]\n",
    "len(register_cycle)\n",
    "\n",
    "for i, x in enumerate(register_cycle):\n",
    "  row = i // dimensions[0]\n",
    "  col = i % dimensions[0]\n",
    "  \n",
    "  if col >= x - 1 and col <= x + 1:\n",
    "    grid[row][col] = 1\n",
    "  \n",
    "for y in range(dimensions[1]):\n",
    "  for x in range(dimensions[0]):\n",
    "    print('#' if grid[y][x] == 1 else '.', end='')\n",
    "  print()"
   ]
  }
 ],
 "metadata": {
  "kernelspec": {
   "display_name": "Python 3.9.13 ('advent-of-code-lC4GFVMo')",
   "language": "python",
   "name": "python3"
  },
  "language_info": {
   "codemirror_mode": {
    "name": "ipython",
    "version": 3
   },
   "file_extension": ".py",
   "mimetype": "text/x-python",
   "name": "python",
   "nbconvert_exporter": "python",
   "pygments_lexer": "ipython3",
   "version": "3.10.9"
  },
  "orig_nbformat": 4,
  "vscode": {
   "interpreter": {
    "hash": "8500e7addda830096dcc469f41c021a5486488eba5a8b31bd2d72aefed90f111"
   }
  }
 },
 "nbformat": 4,
 "nbformat_minor": 2
}
