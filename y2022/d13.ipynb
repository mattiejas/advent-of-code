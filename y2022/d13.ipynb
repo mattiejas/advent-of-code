{
 "cells": [
  {
   "cell_type": "code",
   "execution_count": 4,
   "metadata": {},
   "outputs": [
    {
     "data": {
      "text/plain": [
       "[[1, 1, 3, 1, 1],\n",
       " [1, 1, 5, 1, 1],\n",
       " [[1], [2, 3, 4]],\n",
       " [[1], 4],\n",
       " [9],\n",
       " [[8, 7, 6]],\n",
       " [[4, 4], 4, 4],\n",
       " [[4, 4], 4, 4, 4],\n",
       " [7, 7, 7, 7],\n",
       " [7, 7, 7],\n",
       " [],\n",
       " [3],\n",
       " [[[]]],\n",
       " [[]],\n",
       " [1, [2, [3, [4, [5, 6, 7]]]], 8, 9],\n",
       " [1, [2, [3, [4, [5, 6, 0]]]], 8, 9]]"
      ]
     },
     "execution_count": 4,
     "metadata": {},
     "output_type": "execute_result"
    }
   ],
   "source": [
    "import input\n",
    "import numpy as np\n",
    "from ast import literal_eval\n",
    "from itertools import zip_longest\n",
    "from functools import cmp_to_key\n",
    "\n",
    "\n",
    "data = [x.strip() for x in input.read_input(13, True).split('\\n\\n')]\n",
    "data = [x.split('\\n') for x in data if x != '']\n",
    "data = [literal_eval(y) for x in data for y in x]\n",
    "data"
   ]
  },
  {
   "cell_type": "code",
   "execution_count": 5,
   "metadata": {},
   "outputs": [
    {
     "name": "stdout",
     "output_type": "stream",
     "text": [
      "13\n",
      "[1 2 4 6]\n"
     ]
    }
   ],
   "source": [
    "def compare(left, right):\n",
    "    if left is None:\n",
    "        return -1\n",
    "    elif right is None:\n",
    "        return 1\n",
    "    \n",
    "    # int comparisons\n",
    "    if type(left) == int and type(right) == int:\n",
    "        return left - right\n",
    "    \n",
    "    # list comparisons\n",
    "    if type(left) == list and type(right) == int:\n",
    "        right = [right]\n",
    "    elif type(left) == int and type(right) == list:\n",
    "        left = [left]\n",
    "        \n",
    "    if type(left) == list and type(right) == list:\n",
    "        for l, r in zip_longest(left, right, fillvalue=None):\n",
    "            valid = compare(l, r)\n",
    "            if valid != 0:\n",
    "                return valid\n",
    "\n",
    "    return 0\n",
    "    \n",
    "correct_indices = []        \n",
    "\n",
    "for i, (left, right) in enumerate(zip(data[::2], data[1::2])):   \n",
    "    if compare(left, right) < 0:\n",
    "        correct_indices.append(i)\n",
    "\n",
    "correct_indices = np.array(correct_indices) + 1\n",
    "print(np.sum(correct_indices))\n",
    "print(correct_indices)"
   ]
  },
  {
   "cell_type": "code",
   "execution_count": 6,
   "metadata": {},
   "outputs": [
    {
     "data": {
      "text/plain": [
       "140"
      ]
     },
     "execution_count": 6,
     "metadata": {},
     "output_type": "execute_result"
    }
   ],
   "source": [
    "decoder_packet_one = [[2]]\n",
    "decoder_packet_two = [[6]]\n",
    "\n",
    "ordered_data = [*data, decoder_packet_one, decoder_packet_two]\n",
    "ordered_data = sorted(ordered_data, key=cmp_to_key(compare))\n",
    "\n",
    "# find index of decoder packets\n",
    "decoder_packet_one_index = ordered_data.index(decoder_packet_one) + 1\n",
    "decoder_packet_two_index = ordered_data.index(decoder_packet_two) + 1\n",
    "\n",
    "decoder_packet_one_index * decoder_packet_two_index"
   ]
  }
 ],
 "metadata": {
  "kernelspec": {
   "display_name": "advent-of-code-lC4GFVMo",
   "language": "python",
   "name": "python3"
  },
  "language_info": {
   "codemirror_mode": {
    "name": "ipython",
    "version": 3
   },
   "file_extension": ".py",
   "mimetype": "text/x-python",
   "name": "python",
   "nbconvert_exporter": "python",
   "pygments_lexer": "ipython3",
   "version": "3.9.13 (tags/v3.9.13:6de2ca5, May 17 2022, 16:36:42) [MSC v.1929 64 bit (AMD64)]"
  },
  "orig_nbformat": 4,
  "vscode": {
   "interpreter": {
    "hash": "8500e7addda830096dcc469f41c021a5486488eba5a8b31bd2d72aefed90f111"
   }
  }
 },
 "nbformat": 4,
 "nbformat_minor": 2
}
