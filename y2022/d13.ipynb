{
 "cells": [
  {
   "cell_type": "code",
   "execution_count": null,
   "metadata": {},
   "outputs": [],
   "source": [
    "import input\n",
    "import numpy as np\n",
    "\n",
    "data = np.array([list(x) for x in input.read_input(13, True).splitlines()])"
   ]
  }
 ],
 "metadata": {
  "kernelspec": {
   "display_name": "Python 3",
   "language": "python",
   "name": "python3"
  },
  "language_info": {
   "name": "python",
   "version": "3.10.9 (tags/v3.10.9:1dd9be6, Dec  6 2022, 20:01:21) [MSC v.1934 64 bit (AMD64)]"
  },
  "orig_nbformat": 4,
  "vscode": {
   "interpreter": {
    "hash": "91616c103f70626618a8beafa2d988cc8142ea983df61d37a784d5c499deb27f"
   }
  }
 },
 "nbformat": 4,
 "nbformat_minor": 2
}
