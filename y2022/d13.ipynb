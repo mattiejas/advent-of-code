{
 "cells": [
  {
   "cell_type": "code",
   "execution_count": 1,
   "metadata": {},
   "outputs": [
    {
     "data": {
      "text/plain": [
       "[[[[], 0, 10],\n",
       "  [[[8], [4, 0, 1], [5], [7], 0], 8],\n",
       "  [9, 8, 0, 8, 9],\n",
       "  [[], [[0]], 1, 7, [9, 6, [7], [1, 1], 6]],\n",
       "  [[4, [6, 5], [3, 9, 9, 8, 8]], [[], [10, 5, 5, 7, 3], 5, 5], 9, 5, 2]],\n",
       " [[8, 2, [1, 4, 9, 9], 6, 6],\n",
       "  [],\n",
       "  [[3, [3, 5, 3, 10], 10, [], [7, 0, 3, 1]]],\n",
       "  [[[]], 6, [[10, 6]]],\n",
       "  [[2, 3, [4, 2, 4, 6], [10, 5], [7]],\n",
       "   [[3, 8, 2, 4, 7], 9, [2], []],\n",
       "   10,\n",
       "   [[], 8, 9],\n",
       "   [[4], [3, 9], 6, [9, 10, 2], 6]]]]"
      ]
     },
     "execution_count": 1,
     "metadata": {},
     "output_type": "execute_result"
    }
   ],
   "source": [
    "import input\n",
    "import numpy as np\n",
    "from ast import literal_eval\n",
    "from itertools import zip_longest\n",
    "from functools import cmp_to_key\n",
    "\n",
    "\n",
    "data = [x.strip() for x in input.read_input(13).split('\\n\\n')]\n",
    "data = [x.split('\\n') for x in data if x != '']\n",
    "data = [literal_eval(y) for x in data for y in x]\n",
    "data[:2]"
   ]
  },
  {
   "cell_type": "code",
   "execution_count": 2,
   "metadata": {},
   "outputs": [
    {
     "name": "stdout",
     "output_type": "stream",
     "text": [
      "5013\n",
      "[  1   4   7   9  10  12  13  16  19  20  21  22  24  25  26  27  28  29\n",
      "  31  34  35  37  38  39  43  49  50  52  53  54  56  57  60  61  64  66\n",
      "  67  69  74  75  77  81  82  83  88  89  91  95  97  98  99 105 106 109\n",
      " 113 115 117 118 125 126 127 128 132 135 137 138 140 141 147 148 149]\n"
     ]
    }
   ],
   "source": [
    "def compare(left, right):\n",
    "    if left is None:\n",
    "        return -1\n",
    "    elif right is None:\n",
    "        return 1\n",
    "  \n",
    "    # int comparisons\n",
    "    if type(left) == int and type(right) == int:\n",
    "        return left - right\n",
    "    \n",
    "    # list comparisons\n",
    "    if type(left) == list and type(right) == int:\n",
    "        right = [right]\n",
    "    elif type(left) == int and type(right) == list:\n",
    "        left = [left]\n",
    "  \n",
    "    if type(left) == list and type(right) == list:\n",
    "        for l, r in zip_longest(left, right, fillvalue=None):\n",
    "            valid = compare(l, r)\n",
    "            if valid != 0:\n",
    "                return valid\n",
    "\n",
    "    return 0\n",
    "    \n",
    "correct_indices = []        \n",
    "\n",
    "for i, (left, right) in enumerate(zip(data[::2], data[1::2])):   \n",
    "    if compare(left, right) < 0:\n",
    "        correct_indices.append(i)\n",
    "\n",
    "correct_indices = np.array(correct_indices) + 1\n",
    "print(np.sum(correct_indices))\n",
    "print(correct_indices)"
   ]
  },
  {
   "cell_type": "code",
   "execution_count": 7,
   "metadata": {},
   "outputs": [],
   "source": [
    "decoder_packet_one = [[2]]\n",
    "decoder_packet_two = [[6]]\n",
    "\n",
    "ordered_data = [*data, decoder_packet_one, decoder_packet_two]\n",
    "ordered_data = sorted(ordered_data, key=cmp_to_key(compare))\n",
    "\n",
    "# find index of decoder packets\n",
    "decoder_packet_one_index = ordered_data.index(decoder_packet_one) + 1\n",
    "decoder_packet_two_index = ordered_data.index(decoder_packet_two) + 1\n",
    "\n",
    "decoder_packet_one_index * decoder_packet_two_index"
   ]
  }
 ],
 "metadata": {
  "kernelspec": {
   "display_name": "advent-of-code-lC4GFVMo",
   "language": "python",
   "name": "python3"
  },
  "language_info": {
   "codemirror_mode": {
    "name": "ipython",
    "version": 3
   },
   "file_extension": ".py",
   "mimetype": "text/x-python",
   "name": "python",
   "nbconvert_exporter": "python",
   "pygments_lexer": "ipython3",
   "version": "3.9.13"
  },
  "orig_nbformat": 4,
  "vscode": {
   "interpreter": {
    "hash": "8500e7addda830096dcc469f41c021a5486488eba5a8b31bd2d72aefed90f111"
   }
  }
 },
 "nbformat": 4,
 "nbformat_minor": 2
}
