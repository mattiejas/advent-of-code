{
 "cells": [
  {
   "cell_type": "code",
   "execution_count": 21,
   "metadata": {},
   "outputs": [
    {
     "data": {
      "text/plain": [
       "573"
      ]
     },
     "execution_count": 21,
     "metadata": {},
     "output_type": "execute_result"
    }
   ],
   "source": [
    "import input\n",
    "import numpy as np\n",
    "\n",
    "input_data = input.read_input(4).splitlines()\n",
    "data = [line.split(',') for line in input_data]\n",
    "data = [[np.array(item.split('-'), dtype=int) for item in line] for line in data]\n",
    "\n",
    "def is_contained(a, b):\n",
    "  return a[0] >= b[0] and a[1] <= b[1] or b[0] >= a[0] and b[1] <= a[1]\n",
    "\n",
    "is_contained_data = [is_contained(a, b) for a, b in data]\n",
    "\n",
    "sum(is_contained_data)"
   ]
  },
  {
   "cell_type": "code",
   "execution_count": 22,
   "metadata": {},
   "outputs": [
    {
     "data": {
      "text/plain": [
       "867"
      ]
     },
     "execution_count": 22,
     "metadata": {},
     "output_type": "execute_result"
    }
   ],
   "source": [
    "def is_overlapping(a, b):\n",
    "  return a[0] <= b[0] and a[1] >= b[0] or b[0] <= a[0] and b[1] >= a[0]\n",
    "\n",
    "is_overlapping_data = [is_overlapping(a, b) for a, b in data]\n",
    "sum(is_overlapping_data)"
   ]
  }
 ],
 "metadata": {
  "kernelspec": {
   "display_name": "Python 3.9.13 ('advent-of-code-lC4GFVMo')",
   "language": "python",
   "name": "python3"
  },
  "language_info": {
   "codemirror_mode": {
    "name": "ipython",
    "version": 3
   },
   "file_extension": ".py",
   "mimetype": "text/x-python",
   "name": "python",
   "nbconvert_exporter": "python",
   "pygments_lexer": "ipython3",
   "version": "3.9.13"
  },
  "orig_nbformat": 4,
  "vscode": {
   "interpreter": {
    "hash": "8500e7addda830096dcc469f41c021a5486488eba5a8b31bd2d72aefed90f111"
   }
  }
 },
 "nbformat": 4,
 "nbformat_minor": 2
}
