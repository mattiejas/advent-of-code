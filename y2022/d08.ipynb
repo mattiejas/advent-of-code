{
 "cells": [
  {
   "cell_type": "code",
   "execution_count": 1,
   "metadata": {},
   "outputs": [
    {
     "data": {
      "text/plain": [
       "array([[3, 1, 3, ..., 1, 1, 3],\n",
       "       [2, 2, 2, ..., 3, 2, 2],\n",
       "       [2, 0, 0, ..., 1, 3, 0],\n",
       "       ...,\n",
       "       [0, 0, 3, ..., 1, 2, 3],\n",
       "       [0, 0, 0, ..., 3, 1, 3],\n",
       "       [1, 0, 1, ..., 0, 0, 2]])"
      ]
     },
     "execution_count": 1,
     "metadata": {},
     "output_type": "execute_result"
    }
   ],
   "source": [
    "import input\n",
    "import numpy as np\n",
    "from scipy.sparse import dok_matrix\n",
    "\n",
    "data = np.array([np.array(list(line), dtype=int) for line in input.read_input(8).splitlines()])\n",
    "data"
   ]
  },
  {
   "cell_type": "code",
   "execution_count": 2,
   "metadata": {},
   "outputs": [],
   "source": [
    "def get_visible_trees(tree_heights_row, initial_height=-np.inf):\n",
    "    prev_max_height = initial_height\n",
    "    is_visible = np.zeros(len(tree_heights_row))\n",
    "    \n",
    "    for i, height in enumerate(tree_heights_row):\n",
    "        if height <= prev_max_height:\n",
    "            continue\n",
    "        \n",
    "        is_visible[i] = 1\n",
    "        prev_max_height = height\n",
    "    \n",
    "    return is_visible\n",
    "\n",
    "\n",
    "def get_viewing_distance(tree_heights_row, height):\n",
    "    current_height = height\n",
    "    \n",
    "    if len(tree_heights_row) == 0:\n",
    "        return 0\n",
    "    \n",
    "    for i in range(len(tree_heights_row)):\n",
    "        if tree_heights_row[i] >= current_height:\n",
    "            return i + 1\n",
    "        \n",
    "    return len(tree_heights_row)\n",
    "\n",
    "\n",
    "def get_scenic_score(tree_heights, x, y):\n",
    "    top = tree_heights[:y, x][::-1]\n",
    "    right = tree_heights[y, x+1:]\n",
    "    bottom = tree_heights[y+1:, x]\n",
    "    left = tree_heights[y, :x][::-1]\n",
    "    \n",
    "    tree_height = tree_heights[y, x]\n",
    "    \n",
    "    top_viewing_distance = get_viewing_distance(top, tree_height)\n",
    "    right_viewing_distance = get_viewing_distance(right, tree_height)\n",
    "    bottom_viewing_distance = get_viewing_distance(bottom, tree_height)\n",
    "    left_viewing_distance = get_viewing_distance(left, tree_height)\n",
    "\n",
    "    return top_viewing_distance * left_viewing_distance * right_viewing_distance * bottom_viewing_distance"
   ]
  },
  {
   "cell_type": "code",
   "execution_count": 3,
   "metadata": {},
   "outputs": [
    {
     "name": "stdout",
     "output_type": "stream",
     "text": [
      "1715\n"
     ]
    }
   ],
   "source": [
    "visible_trees_y = {}\n",
    "visible_trees_x = {}\n",
    "\n",
    "for y in range(data.shape[0]):\n",
    "    row = data[y]\n",
    "    rev_row = row[::-1]\n",
    "\n",
    "    visible_trees_y[y] = get_visible_trees(row)\n",
    "    visible_trees_y[y] += get_visible_trees(rev_row)[::-1]\n",
    "    \n",
    "for x in range(data.shape[1]):\n",
    "    col = data[:, x]\n",
    "    rev_col = col[::-1]\n",
    "    \n",
    "    visible_trees_x[x] = get_visible_trees(col)\n",
    "    visible_trees_x[x] += get_visible_trees(rev_col)[::-1]\n",
    "    \n",
    "# create matrix\n",
    "visible_trees = dok_matrix((data.shape[0], data.shape[1]), dtype=int)\n",
    "\n",
    "for y in range(data.shape[0]):\n",
    "    for x in range(data.shape[1]):\n",
    "        visible_trees[y, x] = visible_trees_y[y][x] + visible_trees_x[x][y]\n",
    "\n",
    "print(len(visible_trees))"
   ]
  },
  {
   "cell_type": "code",
   "execution_count": 4,
   "metadata": {},
   "outputs": [
    {
     "name": "stdout",
     "output_type": "stream",
     "text": [
      "374400\n"
     ]
    }
   ],
   "source": [
    "scenic_scores = [get_scenic_score(data, x, y) for y in range(data.shape[0]) for x in range(data.shape[1])]\n",
    "highest_score = max(scenic_scores)           \n",
    "print(highest_score)"
   ]
  }
 ],
 "metadata": {
  "kernelspec": {
   "display_name": "Python 3.9.13 ('advent-of-code-lC4GFVMo')",
   "language": "python",
   "name": "python3"
  },
  "language_info": {
   "codemirror_mode": {
    "name": "ipython",
    "version": 3
   },
   "file_extension": ".py",
   "mimetype": "text/x-python",
   "name": "python",
   "nbconvert_exporter": "python",
   "pygments_lexer": "ipython3",
   "version": "3.9.13"
  },
  "orig_nbformat": 4,
  "vscode": {
   "interpreter": {
    "hash": "8500e7addda830096dcc469f41c021a5486488eba5a8b31bd2d72aefed90f111"
   }
  }
 },
 "nbformat": 4,
 "nbformat_minor": 2
}
