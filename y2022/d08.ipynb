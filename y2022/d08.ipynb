{
 "cells": [
  {
   "cell_type": "code",
   "execution_count": 1,
   "metadata": {},
   "outputs": [],
   "source": [
    "import input\n",
    "import numpy as np\n",
    "\n",
    "data = np.array([np.array(list(line), dtype=int) for line in input.read_input(8).splitlines()])\n",
    "\n",
    "def get_visible_trees(tree_heights_row, initial_height=-np.inf):\n",
    "    prev_max_height = initial_height\n",
    "    is_visible = np.zeros(len(tree_heights_row))\n",
    "    \n",
    "    for i, height in enumerate(tree_heights_row):\n",
    "        if height > prev_max_height:\n",
    "            is_visible[i] = 1\n",
    "            prev_max_height = height\n",
    "    \n",
    "    return is_visible\n",
    "\n",
    "\n",
    "def get_viewing_distance(tree_heights_row, height):\n",
    "    for i in range(len(tree_heights_row)):\n",
    "        if tree_heights_row[i] >= height:\n",
    "            return i + 1\n",
    "        \n",
    "    return len(tree_heights_row)\n",
    "\n",
    "\n",
    "def get_scenic_score(tree_heights, x, y):\n",
    "    top = get_viewing_distance(tree_heights[:y, x][::-1], tree_heights[y, x])\n",
    "    right = get_viewing_distance(tree_heights[y, x+1:], tree_heights[y, x])\n",
    "    bottom = get_viewing_distance(tree_heights[y+1:, x], tree_heights[y, x])\n",
    "    left = get_viewing_distance(tree_heights[y, :x][::-1], tree_heights[y, x])\n",
    "    return top * right * bottom * left"
   ]
  },
  {
   "cell_type": "code",
   "execution_count": 3,
   "metadata": {},
   "outputs": [
    {
     "name": "stdout",
     "output_type": "stream",
     "text": [
      "1715\n"
     ]
    }
   ],
   "source": [
    "visible_trees = np.zeros(data.shape)\n",
    "\n",
    "for y, row in enumerate(data):\n",
    "    visible_trees[y] += get_visible_trees(row) + get_visible_trees(row[::-1])[::-1]\n",
    "    \n",
    "for x, col in enumerate(data.T):\n",
    "    visible_trees[:, x] += get_visible_trees(col) + get_visible_trees(col[::-1])[::-1]\n",
    "\n",
    "print(np.count_nonzero(visible_trees))"
   ]
  },
  {
   "cell_type": "code",
   "execution_count": 4,
   "metadata": {},
   "outputs": [
    {
     "name": "stdout",
     "output_type": "stream",
     "text": [
      "374400\n"
     ]
    }
   ],
   "source": [
    "scenic_scores = [get_scenic_score(data, x, y) for y in range(data.shape[0]) for x in range(data.shape[1])]\n",
    "print(max(scenic_scores))"
   ]
  }
 ],
 "metadata": {
  "kernelspec": {
   "display_name": "Python 3.9.13 ('advent-of-code-lC4GFVMo')",
   "language": "python",
   "name": "python3"
  },
  "language_info": {
   "codemirror_mode": {
    "name": "ipython",
    "version": 3
   },
   "file_extension": ".py",
   "mimetype": "text/x-python",
   "name": "python",
   "nbconvert_exporter": "python",
   "pygments_lexer": "ipython3",
   "version": "3.9.13"
  },
  "orig_nbformat": 4,
  "vscode": {
   "interpreter": {
    "hash": "8500e7addda830096dcc469f41c021a5486488eba5a8b31bd2d72aefed90f111"
   }
  }
 },
 "nbformat": 4,
 "nbformat_minor": 2
}
