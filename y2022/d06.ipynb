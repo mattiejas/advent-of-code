{
 "cells": [
  {
   "cell_type": "code",
   "execution_count": 24,
   "metadata": {},
   "outputs": [
    {
     "name": "stdout",
     "output_type": "stream",
     "text": [
      "2823 ['j', 'h', 'c', 'b', 'l', 'd', 'z', 'q', 'p', 'm', 't', 'n', 'f', 'v']\n"
     ]
    }
   ],
   "source": [
    "import input\n",
    "\n",
    "input_data = list(input.read_input(6).splitlines()[0])\n",
    "sequence_length = 14\n",
    "\n",
    "# input_data\n",
    "data = input_data\n",
    "\n",
    "for i in range(len(data)):\n",
    "    sequence = data[i:i+sequence_length]\n",
    "    if len(sequence) != len(set(sequence)):\n",
    "        continue\n",
    "    else:\n",
    "        print(i + sequence_length, sequence)\n",
    "        break"
   ]
  }
 ],
 "metadata": {
  "kernelspec": {
   "display_name": "Python 3.9.13 ('advent-of-code-lC4GFVMo')",
   "language": "python",
   "name": "python3"
  },
  "language_info": {
   "codemirror_mode": {
    "name": "ipython",
    "version": 3
   },
   "file_extension": ".py",
   "mimetype": "text/x-python",
   "name": "python",
   "nbconvert_exporter": "python",
   "pygments_lexer": "ipython3",
   "version": "3.9.13"
  },
  "orig_nbformat": 4,
  "vscode": {
   "interpreter": {
    "hash": "8500e7addda830096dcc469f41c021a5486488eba5a8b31bd2d72aefed90f111"
   }
  }
 },
 "nbformat": 4,
 "nbformat_minor": 2
}
