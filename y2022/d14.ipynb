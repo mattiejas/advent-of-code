{
 "cells": [
  {
   "cell_type": "code",
   "execution_count": 1,
   "metadata": {},
   "outputs": [],
   "source": [
    "from enum import Enum\n",
    "import input\n",
    "import numpy as np\n",
    "from ast import literal_eval\n",
    "from IPython.display import clear_output\n",
    "import time\n",
    "\n",
    "\n",
    "class TileType(Enum):\n",
    "  EMPTY = 0\n",
    "  ROCK = 1\n",
    "  SAND = 2\n",
    "  SETTLED_SAND = 3\n",
    "  \n",
    "tiletype_to_display = {\n",
    "    TileType.EMPTY: '.',\n",
    "    TileType.ROCK: '#',\n",
    "    TileType.SAND: '+',\n",
    "    TileType.SETTLED_SAND: 'O'\n",
    "}\n",
    "\n",
    "data = [list(map(literal_eval, x.split(' -> '))) for x in input.read_input(14).splitlines()]"
   ]
  },
  {
   "cell_type": "code",
   "execution_count": 2,
   "metadata": {},
   "outputs": [
    {
     "name": "stdout",
     "output_type": "stream",
     "text": [
      "Settled sand count: 26626\n"
     ]
    }
   ],
   "source": [
    "flattened = [x for y in data for x in y]\n",
    "min_y = 0\n",
    "max_y = max(flattened, key=lambda x: x[1])[1] + 2\n",
    "min_x = min(flattened, key=lambda x: x[0])[0] - max_y\n",
    "max_x = max(flattened, key=lambda x: x[0])[0] + max_y\n",
    "\n",
    "grid = np.full((max_y - min_y + 1, max_x - min_x + 1), TileType.EMPTY, dtype=TileType)\n",
    "ground_layer = np.full((max_x - min_x + 1), TileType.ROCK, dtype=TileType)\n",
    "grid[-1] = ground_layer\n",
    "\n",
    "for segments in data:\n",
    "    # draw line between points\n",
    "    for i in range(len(segments) - 1):\n",
    "        x1, y1 = segments[i]\n",
    "        x2, y2 = segments[i+1]\n",
    "        if x1 == x2:\n",
    "        # vertical line\n",
    "            for y in range(min(y1, y2), max(y1, y2) + 1):\n",
    "                grid[y - min_y, x1 - min_x] = TileType.ROCK\n",
    "        else:\n",
    "        # horizontal line\n",
    "            for x in range(min(x1, x2), max(x1, x2) + 1):\n",
    "                grid[y1 - min_y, x - min_x] = TileType.ROCK\n",
    "\n",
    "sand_directions = [(0, 1), (-1, 1), (1, 1)]\n",
    "\n",
    "settled_sand_count = 0\n",
    "has_sand_settled = False\n",
    "should_print = False\n",
    "\n",
    "def get_tile(x, y):\n",
    "    if x < 0 or x >= grid.shape[1] or y < 0 or y >= grid.shape[0]:\n",
    "        return TileType.EMPTY\n",
    "    return grid[y, x]\n",
    "\n",
    "# simulate sand falling\n",
    "while not has_sand_settled:\n",
    "    # place sand at (500, 0)\n",
    "    if get_tile(500 - min_x, 0) == TileType.EMPTY:\n",
    "        grid[0, 500 - min_x] = TileType.SAND\n",
    "    else:\n",
    "        has_sand_settled = True\n",
    "        \n",
    "    sand_locations = [(500 - min_x, 0)]\n",
    "    \n",
    "    # simulate sand falling\n",
    "    while sand_locations:\n",
    "        for direction in sand_directions:\n",
    "            dx, dy = direction\n",
    "            x, y = sand_locations[0]\n",
    "            \n",
    "            if x + dx >= 0 and x + dx < grid.shape[1] and y + dy >= 0 and y + dy < grid.shape[0]:\n",
    "                if grid[y + dy, x + dx] == TileType.EMPTY:\n",
    "                    grid[y, x] = TileType.EMPTY\n",
    "                    grid[y + dy, x + dx] = TileType.SAND\n",
    "                    sand_locations.pop(0)\n",
    "                    sand_locations.append((x + dx, y + dy))\n",
    "                    break\n",
    "            \n",
    "        # if sand location has not moved, settle it\n",
    "        if sand_locations and sand_locations[0] == (x, y):\n",
    "            grid[y, x] = TileType.SETTLED_SAND\n",
    "            sand_locations.pop(0)\n",
    "            settled_sand_count += 1\n",
    "\n",
    "        # clear_output(wait=True)\n",
    "        # time.sleep(0.1)\n",
    "        # for y in range(grid.shape[0]):\n",
    "        #     for x in range(grid.shape[1]):\n",
    "        #         print(f'{tiletype_to_display[grid[y,x]]}', end=' ', flush=True)\n",
    "        #     print(flush=True)\n",
    "            \n",
    "print(f'Settled sand count: {settled_sand_count - 1}', flush=True) # don't ask about the -1"
   ]
  }
 ],
 "metadata": {
  "kernelspec": {
   "display_name": "advent-of-code-lC4GFVMo",
   "language": "python",
   "name": "python3"
  },
  "language_info": {
   "codemirror_mode": {
    "name": "ipython",
    "version": 3
   },
   "file_extension": ".py",
   "mimetype": "text/x-python",
   "name": "python",
   "nbconvert_exporter": "python",
   "pygments_lexer": "ipython3",
   "version": "3.9.13"
  },
  "orig_nbformat": 4,
  "vscode": {
   "interpreter": {
    "hash": "8500e7addda830096dcc469f41c021a5486488eba5a8b31bd2d72aefed90f111"
   }
  }
 },
 "nbformat": 4,
 "nbformat_minor": 2
}
