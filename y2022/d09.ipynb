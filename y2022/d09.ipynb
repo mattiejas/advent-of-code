{
 "cells": [
  {
   "cell_type": "code",
   "execution_count": 1,
   "metadata": {},
   "outputs": [
    {
     "data": {
      "text/plain": [
       "array([[<Direction.RIGHT: (1, 0)>, 4],\n",
       "       [<Direction.UP: (0, -1)>, 4],\n",
       "       [<Direction.LEFT: (-1, 0)>, 3],\n",
       "       [<Direction.DOWN: (0, 1)>, 1],\n",
       "       [<Direction.RIGHT: (1, 0)>, 4],\n",
       "       [<Direction.DOWN: (0, 1)>, 1],\n",
       "       [<Direction.LEFT: (-1, 0)>, 5],\n",
       "       [<Direction.RIGHT: (1, 0)>, 2]], dtype=object)"
      ]
     },
     "execution_count": 1,
     "metadata": {},
     "output_type": "execute_result"
    }
   ],
   "source": [
    "from enum import Enum\n",
    "import numpy as np\n",
    "import input\n",
    "\n",
    "class Direction(Enum):\n",
    "    UP = (0, -1)\n",
    "    RIGHT = (1, 0)\n",
    "    DOWN = (0, 1)\n",
    "    LEFT = (-1, 0)\n",
    "    \n",
    "def map_to_direction(movement):\n",
    "    if movement == 'L':\n",
    "        return Direction.LEFT\n",
    "    elif movement == 'R':\n",
    "        return Direction.RIGHT\n",
    "    elif movement == 'U':\n",
    "        return Direction.UP \n",
    "    elif movement == 'D':\n",
    "        return Direction.DOWN\n",
    "\n",
    "movements = np.array([(map_to_direction(line.split(' ')[0]), int(line.split(' ')[1])) for line in input.read_input(9, True).splitlines() if line != ''])\n",
    "movements"
   ]
  },
  {
   "cell_type": "code",
   "execution_count": 2,
   "metadata": {},
   "outputs": [
    {
     "name": "stdout",
     "output_type": "stream",
     "text": [
      "[(0, 1), (-1, -1), (0, 0), (-1, 1), (1, 1), (1, -1), (-1, 0), (1, 0), (0, -1)]\n"
     ]
    },
    {
     "ename": "TypeError",
     "evalue": "tuple expected at most 1 argument, got 2",
     "output_type": "error",
     "traceback": [
      "\u001b[1;31m---------------------------------------------------------------------------\u001b[0m",
      "\u001b[1;31mTypeError\u001b[0m                                 Traceback (most recent call last)",
      "Cell \u001b[1;32mIn[2], line 31\u001b[0m\n\u001b[0;32m     28\u001b[0m     \u001b[39mreturn\u001b[39;00m tail_positions, head_positions\n\u001b[0;32m     30\u001b[0m \u001b[39mfor\u001b[39;00m direction, units \u001b[39min\u001b[39;00m movements:\n\u001b[1;32m---> 31\u001b[0m     tail_positions, head_positions \u001b[39m=\u001b[39m simulate_step(direction, units, tail_positions, head_positions)\n\u001b[0;32m     33\u001b[0m \u001b[39mprint\u001b[39m(\u001b[39m'\u001b[39m\u001b[39mtail\u001b[39m\u001b[39m'\u001b[39m, tail_positions)\n\u001b[0;32m     35\u001b[0m \u001b[39m# print grid of positions\u001b[39;00m\n",
      "Cell \u001b[1;32mIn[2], line 22\u001b[0m, in \u001b[0;36msimulate_step\u001b[1;34m(direction, units, tail_positions, head_positions)\u001b[0m\n\u001b[0;32m     20\u001b[0m tail_direction \u001b[39m=\u001b[39m tail_direction \u001b[39m/\u001b[39m np\u001b[39m.\u001b[39mlinalg\u001b[39m.\u001b[39mnorm(tail_direction)\n\u001b[0;32m     21\u001b[0m tail_direction \u001b[39m=\u001b[39m np\u001b[39m.\u001b[39mround(tail_direction)\n\u001b[1;32m---> 22\u001b[0m tail_direction \u001b[39m=\u001b[39m \u001b[39mtuple\u001b[39;49m(\u001b[39mint\u001b[39;49m(tail_direction[\u001b[39m0\u001b[39;49m]), \u001b[39mint\u001b[39;49m(tail_direction[\u001b[39m1\u001b[39;49m]))\n\u001b[0;32m     24\u001b[0m \u001b[39mprint\u001b[39m(tail_direction)\n\u001b[0;32m     25\u001b[0m next_tail_position \u001b[39m=\u001b[39m \u001b[39mtuple\u001b[39m(np\u001b[39m.\u001b[39marray(tail_positions[\u001b[39m-\u001b[39m\u001b[39m1\u001b[39m]) \u001b[39m+\u001b[39m np\u001b[39m.\u001b[39marray(tail_direction))\n",
      "\u001b[1;31mTypeError\u001b[0m: tuple expected at most 1 argument, got 2"
     ]
    }
   ],
   "source": [
    "tail_positions = [(0,0)]\n",
    "head_positions = [(0,0)]\n",
    "\n",
    "tail_directions = [Direction.UP.value, Direction.RIGHT.value, Direction.DOWN.value, Direction.LEFT.value]\n",
    "tail_directions += [tuple(np.array(a) + np.array(b)) for a in tail_directions for b in tail_directions]\n",
    "tail_directions = [tuple(d) for d in set(tail_directions) if abs(d[0]) < 2 and abs(d[1]) < 2]\n",
    "\n",
    "print(tail_directions)\n",
    "    \n",
    "def simulate_step(direction, units, tail_positions, head_positions):\n",
    "    # update current position\n",
    "    for _ in range(units):\n",
    "        next_head_position = tuple(np.array(head_positions[-1]) + np.array(direction.value))\n",
    "        head_positions = [*head_positions, next_head_position]\n",
    "    \n",
    "        # check if head is on each tail direction\n",
    "        if not any([tuple(np.array(head_positions[-1]) + np.array(d)) == tail_positions[-1] for d in tail_directions]):\n",
    "            # move tail in direction of head\n",
    "            tail_direction = (np.array(head_positions[-1]) - np.array(tail_positions[-1]))\n",
    "            tail_direction = tail_direction / np.linalg.norm(tail_direction)\n",
    "            tail_direction = np.round(tail_direction)\n",
    "            tail_direction = tuple([int(tail_direction[0]), int(tail_direction[1])])\n",
    "            \n",
    "            print(tail_direction)\n",
    "            next_tail_position = tuple(np.array(tail_positions[-1]) + np.array(tail_direction))\n",
    "            tail_positions = [*tail_positions, next_tail_position]\n",
    "        \n",
    "    return tail_positions, head_positions\n",
    "\n",
    "for direction, units in movements:\n",
    "    tail_positions, head_positions = simulate_step(direction, units, tail_positions, head_positions)\n",
    "\n",
    "print('tail', tail_positions)\n",
    "\n",
    "# print grid of positions\n",
    "min_x = min([x for x, y in [*tail_positions, *head_positions]])\n",
    "min_y = min([y for x, y in [*tail_positions, *head_positions]])\n",
    "grid = np.array([['   *' for _ in range(min_x, max([x for x, y in tail_positions]) + 1)] for _ in range(min_y, max([y for x, y in tail_positions]) + 1)])\n",
    "\n",
    "for i, (x,y) in enumerate(tail_positions[:8]):\n",
    "    grid[y - min_y, x - min_x] = f'  T{i + 1}'\n",
    "    \n",
    "for i, (x,y) in enumerate(head_positions[:8]):\n",
    "    val = grid[y - min_y, x - min_x]\n",
    "    if val == '   *':\n",
    "        grid[y - min_y, x - min_x] = f'  H{i + 1}'\n",
    "    else:\n",
    "        grid[y - min_y, x - min_x] = f'{val.lstrip()}H{i + 1}'\n",
    "    \n",
    "print(grid)\n",
    "print(head_positions)"
   ]
  }
 ],
 "metadata": {
  "kernelspec": {
   "display_name": "Python 3.9.13 ('advent-of-code-lC4GFVMo')",
   "language": "python",
   "name": "python3"
  },
  "language_info": {
   "codemirror_mode": {
    "name": "ipython",
    "version": 3
   },
   "file_extension": ".py",
   "mimetype": "text/x-python",
   "name": "python",
   "nbconvert_exporter": "python",
   "pygments_lexer": "ipython3",
   "version": "3.9.13"
  },
  "orig_nbformat": 4,
  "vscode": {
   "interpreter": {
    "hash": "8500e7addda830096dcc469f41c021a5486488eba5a8b31bd2d72aefed90f111"
   }
  }
 },
 "nbformat": 4,
 "nbformat_minor": 2
}
