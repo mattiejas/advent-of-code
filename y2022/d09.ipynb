{
 "cells": [
  {
   "cell_type": "code",
   "execution_count": 3,
   "metadata": {},
   "outputs": [
    {
     "data": {
      "text/plain": [
       "array([[<Direction.RIGHT: (1, 0)>, 5],\n",
       "       [<Direction.UP: (0, -1)>, 8],\n",
       "       [<Direction.LEFT: (-1, 0)>, 8],\n",
       "       [<Direction.DOWN: (0, 1)>, 3],\n",
       "       [<Direction.RIGHT: (1, 0)>, 17],\n",
       "       [<Direction.DOWN: (0, 1)>, 10],\n",
       "       [<Direction.LEFT: (-1, 0)>, 25],\n",
       "       [<Direction.UP: (0, -1)>, 20]], dtype=object)"
      ]
     },
     "execution_count": 3,
     "metadata": {},
     "output_type": "execute_result"
    }
   ],
   "source": [
    "from enum import Enum\n",
    "import numpy as np\n",
    "import input\n",
    "\n",
    "class Direction(Enum):\n",
    "    UP = (0, -1)\n",
    "    RIGHT = (1, 0)\n",
    "    DOWN = (0, 1)\n",
    "    LEFT = (-1, 0)\n",
    "    \n",
    "def map_to_direction(movement):\n",
    "    if movement == 'L':\n",
    "        return Direction.LEFT\n",
    "    elif movement == 'R':\n",
    "        return Direction.RIGHT\n",
    "    elif movement == 'U':\n",
    "        return Direction.UP \n",
    "    elif movement == 'D':\n",
    "        return Direction.DOWN\n",
    "\n",
    "movements = np.array([(map_to_direction(line.split(' ')[0]), int(line.split(' ')[1])) for line in input.read_input(9, True).splitlines() if line != ''])\n",
    "movements"
   ]
  },
  {
   "cell_type": "code",
   "execution_count": 4,
   "metadata": {},
   "outputs": [
    {
     "name": "stdout",
     "output_type": "stream",
     "text": [
      "..........................\n",
      "..........................\n",
      "..........................\n",
      "..........................\n",
      "..........................\n",
      "..........................\n",
      "..........................\n",
      "..........................\n",
      "..........................\n",
      "X.........................\n",
      "X.............XXX.........\n",
      "X............X...X........\n",
      ".X..........X.....X.......\n",
      "..X..........X.....X......\n",
      "...X........X.......X.....\n",
      "....X......X.........X....\n",
      ".....X..............X.....\n",
      "......X............X......\n",
      ".......X..........X.......\n",
      "........X........X........\n",
      ".........XXXXXXXX.........\n",
      "36\n"
     ]
    }
   ],
   "source": [
    "knots = 10\n",
    "\n",
    "tail_positions = [(0,0)] * (knots - 1)\n",
    "visited = set(tail_positions)\n",
    "\n",
    "head_positions = [(0,0)]\n",
    "    \n",
    "def simulate_step(direction, units, tail_positions, head_positions, visited):\n",
    "    # update current position\n",
    "    for _ in range(units):\n",
    "        next_head = head_positions[-1]\n",
    "        dx, dy = direction.value\n",
    "        head_positions.append((next_head[0] + dx, next_head[1] + dy))\n",
    "        \n",
    "        for i in range(knots - 1):\n",
    "            acting_head = head_positions[-1] if i == 0 else tail_positions[i - 1]\n",
    "            tail_pos = tail_positions[i]\n",
    "            \n",
    "            x, y = tail_pos\n",
    "            diff_x, diff_y = abs(acting_head[0] - x), abs(acting_head[1] - y)\n",
    "            if diff_x > 1 or diff_y > 1:\n",
    "                dx, dy = acting_head[0] - x, acting_head[1] - y\n",
    "                dx = dx // abs(dx) if dx != 0 else 0\n",
    "                dy = dy // abs(dy) if dy != 0 else 0\n",
    "                tail_positions[i] = (x + dx, y + dy)\n",
    "                \n",
    "                if i == knots - 2:\n",
    "                    visited.add((x + dx, y + dy))\n",
    "        \n",
    "    return tail_positions, head_positions, visited\n",
    "\n",
    "for direction, units in movements:\n",
    "    tail_positions, head_positions, visited = simulate_step(direction, units, tail_positions, head_positions, visited)\n",
    "\n",
    "# print grid of positions\n",
    "min_x = min([x for x, _ in [*tail_positions, *head_positions]])\n",
    "min_y = min([y for _, y in [*tail_positions, *head_positions]])\n",
    "max_x = max([x for x, _ in [*tail_positions, *head_positions]])\n",
    "max_y = max([y for _, y in [*tail_positions, *head_positions]])\n",
    "\n",
    "for y in range(min_y, max_y + 1):\n",
    "    for x in range(min_x, max_x + 1):\n",
    "        if (x, y) in visited:\n",
    "            print('X', end='')\n",
    "        else:\n",
    "            print('.', end='')\n",
    "    print()\n",
    "\n",
    "print(len(visited))"
   ]
  }
 ],
 "metadata": {
  "kernelspec": {
   "display_name": "Python 3.9.13 ('advent-of-code-lC4GFVMo')",
   "language": "python",
   "name": "python3"
  },
  "language_info": {
   "codemirror_mode": {
    "name": "ipython",
    "version": 3
   },
   "file_extension": ".py",
   "mimetype": "text/x-python",
   "name": "python",
   "nbconvert_exporter": "python",
   "pygments_lexer": "ipython3",
   "version": "3.10.9"
  },
  "orig_nbformat": 4,
  "vscode": {
   "interpreter": {
    "hash": "8500e7addda830096dcc469f41c021a5486488eba5a8b31bd2d72aefed90f111"
   }
  }
 },
 "nbformat": 4,
 "nbformat_minor": 2
}
