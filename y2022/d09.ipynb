{
 "cells": [
  {
   "cell_type": "code",
   "execution_count": 13,
   "metadata": {},
   "outputs": [
    {
     "data": {
      "text/plain": [
       "array([[<Direction.RIGHT: (1, 0)>, 4],\n",
       "       [<Direction.UP: (0, -1)>, 4],\n",
       "       [<Direction.LEFT: (-1, 0)>, 3],\n",
       "       [<Direction.DOWN: (0, 1)>, 1],\n",
       "       [<Direction.RIGHT: (1, 0)>, 4],\n",
       "       [<Direction.DOWN: (0, 1)>, 1],\n",
       "       [<Direction.LEFT: (-1, 0)>, 5],\n",
       "       [<Direction.RIGHT: (1, 0)>, 2]], dtype=object)"
      ]
     },
     "execution_count": 13,
     "metadata": {},
     "output_type": "execute_result"
    }
   ],
   "source": [
    "from enum import Enum\n",
    "import numpy as np\n",
    "import input\n",
    "\n",
    "class Direction(Enum):\n",
    "    UP = (0, -1)\n",
    "    RIGHT = (1, 0)\n",
    "    DOWN = (0, 1)\n",
    "    LEFT = (-1, 0)\n",
    "    \n",
    "def map_to_direction(movement):\n",
    "    if movement == 'L':\n",
    "        return Direction.LEFT\n",
    "    elif movement == 'R':\n",
    "        return Direction.RIGHT\n",
    "    elif movement == 'U':\n",
    "        return Direction.UP \n",
    "    elif movement == 'D':\n",
    "        return Direction.DOWN\n",
    "\n",
    "movements = np.array([(map_to_direction(line.split(' ')[0]), int(line.split(' ')[1])) for line in input.read_input(9).splitlines() if line != ''])\n",
    "movements"
   ]
  },
  {
   "cell_type": "code",
   "execution_count": 14,
   "metadata": {},
   "outputs": [
    {
     "name": "stdout",
     "output_type": "stream",
     "text": [
      "[['.' '.' '#' '#' '.' '.']\n",
      " ['.' '.' '.' '#' '#' '.']\n",
      " ['.' '#' '#' '#' '#' '.']\n",
      " ['.' '.' '.' '.' '#' '.']\n",
      " ['#' '#' '#' '#' '.' '.']]\n",
      "[['.' '#' '#' '#' '#' '.']\n",
      " ['.' '#' '#' '#' '#' '#']\n",
      " ['#' '#' '#' '#' '#' '#']\n",
      " ['.' '.' '.' '.' '#' '.']\n",
      " ['#' '#' '#' '#' '#' '.']]\n",
      "13\n"
     ]
    }
   ],
   "source": [
    "tail_positions = [(0,0)]\n",
    "head_positions = [(0,0)]\n",
    "    \n",
    "def simulate_step(direction, units, tail_positions, head_positions):\n",
    "    # update current position\n",
    "    for _ in range(units):\n",
    "        next_head = head_positions[-1]\n",
    "        dx, dy = direction.value\n",
    "        head_positions.append((next_head[0] + dx, next_head[1] + dy))\n",
    "        \n",
    "        x, y = tail_positions[-1]\n",
    "        diff_x, diff_y = abs(head_positions[-1][0] - x), abs(head_positions[-1][1] - y)\n",
    "        if diff_x > 1 or diff_y > 1:\n",
    "            dx, dy = head_positions[-1][0] - x, head_positions[-1][1] - y\n",
    "            dx = dx // abs(dx) if dx != 0 else 0\n",
    "            dy = dy // abs(dy) if dy != 0 else 0\n",
    "            tail_positions.append((x + dx, y + dy))\n",
    "        \n",
    "    return tail_positions, head_positions\n",
    "\n",
    "for direction, units in movements:\n",
    "    tail_positions, head_positions = simulate_step(direction, units, tail_positions, head_positions)\n",
    "\n",
    "# print grid of positions\n",
    "min_x = min([x for x, _ in [*tail_positions, *head_positions]])\n",
    "min_y = min([y for _, y in [*tail_positions, *head_positions]])\n",
    "max_x = max([x for x, _ in [*tail_positions, *head_positions]])\n",
    "max_y = max([y for _, y in [*tail_positions, *head_positions]])\n",
    "grid = np.array([['.' for _ in range(max_x - min_x + 1)] for _ in range(max_y - min_y + 1)])\n",
    "\n",
    "for i, (x,y) in enumerate(tail_positions):\n",
    "    grid[y - min_y, x - min_x] = f'#'\n",
    "    \n",
    "print(grid)\n",
    "\n",
    "head_grid = np.array([['.' for _ in range(max_x - min_x + 1)] for _ in range(max_y - min_y + 1)])\n",
    "\n",
    "for i, (x,y) in enumerate(head_positions):\n",
    "    head_grid[y - min_y, x - min_x] = f'#'\n",
    "    \n",
    "print(head_grid)\n",
    "\n",
    "print(len(set(tail_positions)))"
   ]
  }
 ],
 "metadata": {
  "kernelspec": {
   "display_name": "Python 3.9.13 ('advent-of-code-lC4GFVMo')",
   "language": "python",
   "name": "python3"
  },
  "language_info": {
   "codemirror_mode": {
    "name": "ipython",
    "version": 3
   },
   "file_extension": ".py",
   "mimetype": "text/x-python",
   "name": "python",
   "nbconvert_exporter": "python",
   "pygments_lexer": "ipython3",
   "version": "3.10.9"
  },
  "orig_nbformat": 4,
  "vscode": {
   "interpreter": {
    "hash": "8500e7addda830096dcc469f41c021a5486488eba5a8b31bd2d72aefed90f111"
   }
  }
 },
 "nbformat": 4,
 "nbformat_minor": 2
}
