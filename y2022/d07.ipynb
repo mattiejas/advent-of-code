{
 "cells": [
  {
   "cell_type": "code",
   "execution_count": 1,
   "metadata": {},
   "outputs": [
    {
     "data": {
      "text/plain": [
       "[(<LineType.COMMAND: 1>, '$ cd /'),\n",
       " (<LineType.COMMAND: 1>, '$ ls'),\n",
       " (<LineType.DIR: 2>, 'dir a'),\n",
       " (<LineType.FILE: 3>, '14848514 b.txt'),\n",
       " (<LineType.FILE: 3>, '8504156 c.dat'),\n",
       " (<LineType.DIR: 2>, 'dir d')]"
      ]
     },
     "execution_count": 1,
     "metadata": {},
     "output_type": "execute_result"
    }
   ],
   "source": [
    "from enum import Enum\n",
    "import input\n",
    "import re\n",
    "\n",
    "input_data = input.read_input(7, True).splitlines()\n",
    "\n",
    "match_command_pattern = re.compile(r'^\\$')\n",
    "match_dir_pattern = re.compile(r'^dir')\n",
    "match_file_pattern = re.compile(r'^\\d')\n",
    "\n",
    "class LineType(Enum):\n",
    "    COMMAND = 1\n",
    "    DIR = 2\n",
    "    FILE = 3\n",
    "\n",
    "def parse_input(input_data):\n",
    "    commands = []\n",
    "    for line in input_data:\n",
    "        if match_command_pattern.match(line):\n",
    "            commands.append((LineType.COMMAND, line))\n",
    "        elif match_dir_pattern.match(line):\n",
    "            commands.append((LineType.DIR, line))\n",
    "        elif match_file_pattern.match(line):\n",
    "            commands.append((LineType.FILE, line))\n",
    "    return commands\n",
    "  \n",
    "data = parse_input(input_data)\n",
    "data[:6]"
   ]
  },
  {
   "cell_type": "code",
   "execution_count": 2,
   "metadata": {},
   "outputs": [],
   "source": [
    "class Node:\n",
    "  def __init__(self, name, parent=None, size=0):\n",
    "    self.name = name\n",
    "    self.parent = parent\n",
    "    self.children = []\n",
    "    self.size = size\n",
    "    \n",
    "  def print(self, indent=0, last=False):\n",
    "    branch = '│   '\n",
    "    tee = '├── '\n",
    "    cap = '└── '\n",
    "    \n",
    "    size = self.get_size()\n",
    "    size_label = f'({size})' if size > 0 else ''\n",
    "    \n",
    "    if indent == 0:\n",
    "      print(f'{self.name} {size_label}')\n",
    "    else:\n",
    "      print(branch * (indent - 1), end='')\n",
    "      print(tee if not last else cap, end='')\n",
    "      print(f'{self.name} {size_label}')\n",
    "    \n",
    "    for i, child in enumerate(self.children):\n",
    "      child.print(indent + 1, i == len(self.children) - 1)\n",
    "      \n",
    "  def find_child(self, name):\n",
    "    for child in self.children:\n",
    "      if child.name == name:\n",
    "        return child\n",
    "    return None\n",
    "  \n",
    "  def get_size(self):\n",
    "    size = self.size\n",
    "    for child in self.children:\n",
    "      size += child.get_size()\n",
    "    return size\n",
    "  \n",
    "  # find all nodes with size <= max_size_limit\n",
    "  def query_max(self, max_size_limit):\n",
    "    result = []\n",
    "    if self.get_size() <= max_size_limit and self.size == 0: # only include dirs\n",
    "      result.append(self)\n",
    "    for child in self.children:\n",
    "      result.extend(child.query_max(max_size_limit))\n",
    "    return result\n",
    "  \n",
    "  # find all nodes with size >= min_size_limit\n",
    "  def query_min(self, min_size_limit):\n",
    "    result = []\n",
    "    if self.get_size() >= min_size_limit and self.size == 0:\n",
    "      result.append(self)\n",
    "    for child in self.children:\n",
    "      result.extend(child.query_min(min_size_limit))\n",
    "    return result"
   ]
  },
  {
   "cell_type": "code",
   "execution_count": 3,
   "metadata": {},
   "outputs": [],
   "source": [
    "root = Node('/')\n",
    "current_node = root\n",
    "\n",
    "for line_type, line in data:\n",
    "  if line_type == LineType.COMMAND:\n",
    "    if 'ls' in line:\n",
    "      continue\n",
    "    \n",
    "    if 'cd ..' in line:\n",
    "      if current_node.parent:\n",
    "        current_node = current_node.parent\n",
    "      continue\n",
    "    \n",
    "    if 'cd /' in line:\n",
    "      current_node = root\n",
    "      continue\n",
    "    \n",
    "    ## cd into a directory\n",
    "    pattern = r'\\$ cd (.*)'\n",
    "    dir_name = re.match(pattern, line).group(1)\n",
    "    \n",
    "    # does the dir exist?\n",
    "    child = current_node.find_child(dir_name)\n",
    "    if child:\n",
    "      current_node = child\n",
    "      continue\n",
    "      \n",
    "    # if not, create it    \n",
    "    current_node.children.append(\n",
    "      Node(dir_name, current_node)\n",
    "    )\n",
    "    current_node = current_node.children[-1]\n",
    "  elif line_type == LineType.DIR:\n",
    "    pattern = r'dir (.*)'\n",
    "    dir_name = re.match(pattern, line).group(1)\n",
    "    current_node.children.append(Node(dir_name, current_node))\n",
    "  elif line_type == LineType.FILE:\n",
    "    pattern = r'(\\d+) (.*)'\n",
    "    size, file_name = re.match(pattern, line).group(1, 2)\n",
    "    size = int(size)\n",
    "    current_node.children.append(Node(file_name, current_node, size))"
   ]
  },
  {
   "cell_type": "code",
   "execution_count": 4,
   "metadata": {},
   "outputs": [
    {
     "name": "stdout",
     "output_type": "stream",
     "text": [
      "/ (48381165)\n",
      "├── a (94853)\n",
      "│   ├── e (584)\n",
      "│   │   └── i (584)\n",
      "│   ├── f (29116)\n",
      "│   ├── g (2557)\n",
      "│   └── h.lst (62596)\n",
      "├── b.txt (14848514)\n",
      "├── c.dat (8504156)\n",
      "└── d (24933642)\n",
      "│   ├── j (4060174)\n",
      "│   ├── d.log (8033020)\n",
      "│   ├── d.ext (5626152)\n",
      "│   └── k (7214296)\n"
     ]
    }
   ],
   "source": [
    "root.print()"
   ]
  },
  {
   "cell_type": "code",
   "execution_count": 5,
   "metadata": {},
   "outputs": [
    {
     "data": {
      "text/plain": [
       "95437"
      ]
     },
     "execution_count": 5,
     "metadata": {},
     "output_type": "execute_result"
    }
   ],
   "source": [
    "small_dirs = root.query_max(100_000)\n",
    "sum([dir.get_size() for dir in small_dirs])"
   ]
  },
  {
   "cell_type": "code",
   "execution_count": 6,
   "metadata": {},
   "outputs": [
    {
     "name": "stdout",
     "output_type": "stream",
     "text": [
      "d 24933642\n"
     ]
    }
   ],
   "source": [
    "used_space = root.get_size()\n",
    "max_space = 70_000_000\n",
    "update_size = 30_000_000\n",
    "space_needed = abs(max_space - update_size - used_space)\n",
    "\n",
    "large_dirs = root.query_min(space_needed)\n",
    "large_dirs = sorted(large_dirs, key=lambda dir: dir.get_size())\n",
    "print(large_dirs[0].name, large_dirs[0].get_size())"
   ]
  }
 ],
 "metadata": {
  "kernelspec": {
   "display_name": "Python 3.9.13 ('advent-of-code-lC4GFVMo')",
   "language": "python",
   "name": "python3"
  },
  "language_info": {
   "codemirror_mode": {
    "name": "ipython",
    "version": 3
   },
   "file_extension": ".py",
   "mimetype": "text/x-python",
   "name": "python",
   "nbconvert_exporter": "python",
   "pygments_lexer": "ipython3",
   "version": "3.9.13"
  },
  "orig_nbformat": 4,
  "vscode": {
   "interpreter": {
    "hash": "8500e7addda830096dcc469f41c021a5486488eba5a8b31bd2d72aefed90f111"
   }
  }
 },
 "nbformat": 4,
 "nbformat_minor": 2
}
