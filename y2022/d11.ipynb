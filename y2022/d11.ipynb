{
 "cells": [
  {
   "cell_type": "code",
   "execution_count": 1,
   "metadata": {},
   "outputs": [
    {
     "data": {
      "text/plain": [
       "[{'id': 0,\n",
       "  'starting_items': [99, 63, 76, 93, 54, 73],\n",
       "  'operation': 'old * 11',\n",
       "  'divisible_by': 2,\n",
       "  'test_true': 7,\n",
       "  'test_false': 1},\n",
       " {'id': 1,\n",
       "  'starting_items': [91, 60, 97, 54],\n",
       "  'operation': 'old + 1',\n",
       "  'divisible_by': 17,\n",
       "  'test_true': 3,\n",
       "  'test_false': 2},\n",
       " {'id': 2,\n",
       "  'starting_items': [65],\n",
       "  'operation': 'old + 7',\n",
       "  'divisible_by': 7,\n",
       "  'test_true': 6,\n",
       "  'test_false': 5},\n",
       " {'id': 3,\n",
       "  'starting_items': [84, 55],\n",
       "  'operation': 'old + 3',\n",
       "  'divisible_by': 11,\n",
       "  'test_true': 2,\n",
       "  'test_false': 6},\n",
       " {'id': 4,\n",
       "  'starting_items': [86, 63, 79, 54, 83],\n",
       "  'operation': 'old * old',\n",
       "  'divisible_by': 19,\n",
       "  'test_true': 7,\n",
       "  'test_false': 0},\n",
       " {'id': 5,\n",
       "  'starting_items': [96, 67, 56, 95, 64, 69, 96],\n",
       "  'operation': 'old + 4',\n",
       "  'divisible_by': 5,\n",
       "  'test_true': 4,\n",
       "  'test_false': 0},\n",
       " {'id': 6,\n",
       "  'starting_items': [66, 94, 70, 93, 72, 67, 88, 51],\n",
       "  'operation': 'old * 5',\n",
       "  'divisible_by': 13,\n",
       "  'test_true': 4,\n",
       "  'test_false': 5},\n",
       " {'id': 7,\n",
       "  'starting_items': [59, 59, 74],\n",
       "  'operation': 'old + 8',\n",
       "  'divisible_by': 3,\n",
       "  'test_true': 1,\n",
       "  'test_false': 3}]"
      ]
     },
     "execution_count": 1,
     "metadata": {},
     "output_type": "execute_result"
    }
   ],
   "source": [
    "import input\n",
    "import numpy as np\n",
    "import tqdm\n",
    "\n",
    "monkeys = [line for line in input.read_input(11).split('\\n\\n')]\n",
    "\n",
    "def parse_monkey(raw_monkey):\n",
    "    lines = raw_monkey.split('\\n')\n",
    "    monkey = {\n",
    "      'id': int(lines[0].split(' ')[1].strip(':')),\n",
    "      'starting_items': [int(x) for x in lines[1].split(':')[1].split(',')],\n",
    "      'operation': lines[2].split('= ')[1].strip(),\n",
    "      'divisible_by': int(lines[3].split('divisible by ')[1]),\n",
    "      'test_true': int(lines[4].split('throw to monkey ')[1]),\n",
    "      'test_false': int(lines[5].split('throw to monkey ')[1]),\n",
    "    }\n",
    "    return monkey\n",
    "  \n",
    "monkeys = [parse_monkey(monkey) for monkey in monkeys]\n",
    "monkeys"
   ]
  },
  {
   "cell_type": "code",
   "execution_count": 2,
   "metadata": {},
   "outputs": [
    {
     "name": "stderr",
     "output_type": "stream",
     "text": [
      "100%|██████████| 10000/10000 [00:00<00:00, 25973.90it/s]"
     ]
    },
    {
     "name": "stdout",
     "output_type": "stream",
     "text": [
      "[188167, 129800, 178936, 67599, 29921, 187442, 21583, 62690]\n"
     ]
    },
    {
     "name": "stderr",
     "output_type": "stream",
     "text": [
      "\n"
     ]
    },
    {
     "data": {
      "text/plain": [
       "35270398814"
      ]
     },
     "execution_count": 2,
     "metadata": {},
     "output_type": "execute_result"
    }
   ],
   "source": [
    "rounds = 10000\n",
    "\n",
    "number_of_inspections = [0] * len(monkeys)\n",
    "monkey_cycle = int(np.multiply.reduce([monkey['divisible_by'] for monkey in monkeys]))\n",
    "\n",
    "for _ in tqdm.tqdm(range(rounds)):\n",
    "    for monkey in monkeys:\n",
    "        starting_items = monkey['starting_items']\n",
    "\n",
    "        for i, item in enumerate(starting_items):  \n",
    "            number_of_inspections[monkey['id']] += 1\n",
    "            worry_level = int(item)\n",
    "\n",
    "            if '*' in monkey['operation']:\n",
    "                factor = monkey['operation'].split('*')[1].strip()\n",
    "                if factor == 'old':\n",
    "                    worry_level *= worry_level\n",
    "                else:\n",
    "                    worry_level *= int(factor)\n",
    "                    \n",
    "            if '+' in monkey['operation']:\n",
    "                factor = monkey['operation'].split('+')[1].strip()\n",
    "                if factor == 'old':\n",
    "                    worry_level += worry_level\n",
    "                else:\n",
    "                    worry_level += int(factor)\n",
    "                    \n",
    "            # worry_level = worry_level // 3 # part 1\n",
    "            worry_level %= monkey_cycle # part 2\n",
    "            \n",
    "            test = worry_level % monkey['divisible_by']\n",
    "            if test == 0:\n",
    "                monkeys[monkey['test_true']]['starting_items'].append(worry_level)\n",
    "            else:\n",
    "                monkeys[monkey['test_false']]['starting_items'].append(worry_level)   \n",
    "        \n",
    "        monkey['starting_items'] = []\n",
    "    \n",
    "print(number_of_inspections)\n",
    "max_inspec = sorted(number_of_inspections)[-2:]\n",
    "max_inspec[0] * max_inspec[1]"
   ]
  }
 ],
 "metadata": {
  "kernelspec": {
   "display_name": "Python 3.10.9 ('advent-of-code-lC4GFVMo')",
   "language": "python",
   "name": "python3"
  },
  "language_info": {
   "codemirror_mode": {
    "name": "ipython",
    "version": 3
   },
   "file_extension": ".py",
   "mimetype": "text/x-python",
   "name": "python",
   "nbconvert_exporter": "python",
   "pygments_lexer": "ipython3",
   "version": "3.9.13"
  },
  "orig_nbformat": 4,
  "vscode": {
   "interpreter": {
    "hash": "8500e7addda830096dcc469f41c021a5486488eba5a8b31bd2d72aefed90f111"
   }
  }
 },
 "nbformat": 4,
 "nbformat_minor": 2
}
