{
 "cells": [
  {
   "cell_type": "code",
   "execution_count": 1,
   "metadata": {},
   "outputs": [
    {
     "data": {
      "text/plain": [
       "[{'id': 0,\n",
       "  'items': [99, 63, 76, 93, 54, 73],\n",
       "  'operator': <function _operator.mul(a, b, /)>,\n",
       "  'operand': '11',\n",
       "  'div': 2,\n",
       "  'true': 7,\n",
       "  'false': 1},\n",
       " {'id': 1,\n",
       "  'items': [91, 60, 97, 54],\n",
       "  'operator': <function _operator.add(a, b, /)>,\n",
       "  'operand': '1',\n",
       "  'div': 17,\n",
       "  'true': 3,\n",
       "  'false': 2},\n",
       " {'id': 2,\n",
       "  'items': [65],\n",
       "  'operator': <function _operator.add(a, b, /)>,\n",
       "  'operand': '7',\n",
       "  'div': 7,\n",
       "  'true': 6,\n",
       "  'false': 5},\n",
       " {'id': 3,\n",
       "  'items': [84, 55],\n",
       "  'operator': <function _operator.add(a, b, /)>,\n",
       "  'operand': '3',\n",
       "  'div': 11,\n",
       "  'true': 2,\n",
       "  'false': 6},\n",
       " {'id': 4,\n",
       "  'items': [86, 63, 79, 54, 83],\n",
       "  'operator': <function _operator.mul(a, b, /)>,\n",
       "  'operand': 'old',\n",
       "  'div': 19,\n",
       "  'true': 7,\n",
       "  'false': 0},\n",
       " {'id': 5,\n",
       "  'items': [96, 67, 56, 95, 64, 69, 96],\n",
       "  'operator': <function _operator.add(a, b, /)>,\n",
       "  'operand': '4',\n",
       "  'div': 5,\n",
       "  'true': 4,\n",
       "  'false': 0},\n",
       " {'id': 6,\n",
       "  'items': [66, 94, 70, 93, 72, 67, 88, 51],\n",
       "  'operator': <function _operator.mul(a, b, /)>,\n",
       "  'operand': '5',\n",
       "  'div': 13,\n",
       "  'true': 4,\n",
       "  'false': 5},\n",
       " {'id': 7,\n",
       "  'items': [59, 59, 74],\n",
       "  'operator': <function _operator.add(a, b, /)>,\n",
       "  'operand': '8',\n",
       "  'div': 3,\n",
       "  'true': 1,\n",
       "  'false': 3}]"
      ]
     },
     "execution_count": 1,
     "metadata": {},
     "output_type": "execute_result"
    }
   ],
   "source": [
    "import input\n",
    "import operator\n",
    "import numpy as np\n",
    "import tqdm\n",
    "import re\n",
    "\n",
    "monkeys = [line for line in input.read_input(11).split('\\n\\n')]\n",
    "\n",
    "def parse_monkey(raw_monkey):\n",
    "    lines = raw_monkey.split('\\n')\n",
    "    \n",
    "    op_str = re.search(r'(\\+|\\*)', lines[2]).group(1)\n",
    "    op = operator.mul if op_str == '*' else operator.add\n",
    "\n",
    "    monkey = {\n",
    "      'id': int(lines[0].split(' ')[1].strip(':')),\n",
    "      'items': [int(x) for x in lines[1].split(':')[1].split(',')],\n",
    "      'operator': op,\n",
    "      'operand': lines[2].split(op_str)[1].strip(), \n",
    "      'div': int(lines[3].split('divisible by ')[1]),\n",
    "      'true': int(lines[4].split('throw to monkey ')[1]),\n",
    "      'false': int(lines[5].split('throw to monkey ')[1]),\n",
    "    }\n",
    "    return monkey\n",
    "  \n",
    "monkeys = [parse_monkey(monkey) for monkey in monkeys]\n",
    "monkeys"
   ]
  },
  {
   "cell_type": "code",
   "execution_count": 2,
   "metadata": {},
   "outputs": [
    {
     "name": "stderr",
     "output_type": "stream",
     "text": [
      "100%|██████████| 10000/10000 [00:00<00:00, 42985.17it/s]\n"
     ]
    },
    {
     "data": {
      "text/plain": [
       "35270398814"
      ]
     },
     "execution_count": 2,
     "metadata": {},
     "output_type": "execute_result"
    }
   ],
   "source": [
    "rounds = 10000\n",
    "number_of_inspections = [0] * len(monkeys)\n",
    "monkey_cycle = int(np.multiply.reduce([monkey['div'] for monkey in monkeys]))\n",
    "\n",
    "for _ in tqdm.tqdm(range(rounds)):\n",
    "    for monkey in monkeys:\n",
    "        for worry_level in monkey['items']:  \n",
    "            number_of_inspections[monkey['id']] += 1\n",
    "            operand = int(monkey['operand']) if monkey['operand'] != 'old' else worry_level\n",
    "            worry_level = monkey['operator'](worry_level, operand) % monkey_cycle\n",
    "            # worry_level = worry_level // 3 # part 1\n",
    "\n",
    "            monkeys[monkey['true'] if worry_level % monkey['div'] == 0 else monkey['false']]['items'].append(worry_level)\n",
    "\n",
    "        monkey['items'] = []\n",
    "    \n",
    "max_inspec = sorted(number_of_inspections)[-2:]\n",
    "max_inspec[0] * max_inspec[1]"
   ]
  }
 ],
 "metadata": {
  "kernelspec": {
   "display_name": "Python 3.10.9 ('advent-of-code-lC4GFVMo')",
   "language": "python",
   "name": "python3"
  },
  "language_info": {
   "codemirror_mode": {
    "name": "ipython",
    "version": 3
   },
   "file_extension": ".py",
   "mimetype": "text/x-python",
   "name": "python",
   "nbconvert_exporter": "python",
   "pygments_lexer": "ipython3",
   "version": "3.9.13"
  },
  "orig_nbformat": 4,
  "vscode": {
   "interpreter": {
    "hash": "8500e7addda830096dcc469f41c021a5486488eba5a8b31bd2d72aefed90f111"
   }
  }
 },
 "nbformat": 4,
 "nbformat_minor": 2
}
