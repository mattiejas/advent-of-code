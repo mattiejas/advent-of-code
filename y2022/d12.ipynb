{
 "cells": [
  {
   "cell_type": "code",
   "execution_count": 1,
   "metadata": {},
   "outputs": [
    {
     "data": {
      "text/plain": [
       "array([[ 0,  0,  1, 16, 15, 14, 13, 12],\n",
       "       [ 0,  1,  2, 17, 24, 23, 23, 11],\n",
       "       [ 0,  2,  2, 18, 25, 25, 23, 10],\n",
       "       [ 0,  2,  2, 19, 20, 21, 22,  9],\n",
       "       [ 0,  1,  3,  4,  5,  6,  7,  8]])"
      ]
     },
     "execution_count": 1,
     "metadata": {},
     "output_type": "execute_result"
    }
   ],
   "source": [
    "import input\n",
    "import string\n",
    "import numpy as np\n",
    "\n",
    "data = np.array([list(x) for x in input.read_input(12, True).splitlines()])\n",
    "weights = np.zeros(data.shape, dtype=int)\n",
    "\n",
    "start_pos = np.argwhere(data == 'S')[0]\n",
    "start_pos = (start_pos[0], start_pos[1])\n",
    "\n",
    "end_pos = np.argwhere(data == 'E')[0]\n",
    "end_pos = (end_pos[0], end_pos[1])\n",
    "\n",
    "for y in range(data.shape[0]):\n",
    "    for x in range(data.shape[1]):\n",
    "        if data[y, x] != 'S' and data[y, x] != 'E':\n",
    "            weights[y, x] = string.ascii_lowercase.index(data[y, x])\n",
    "            \n",
    "weights[start_pos[0], start_pos[1]] = 0\n",
    "weights[end_pos[0], end_pos[1]] = string.ascii_lowercase.index('z')\n",
    "\n",
    "weights"
   ]
  },
  {
   "cell_type": "code",
   "execution_count": 2,
   "metadata": {},
   "outputs": [],
   "source": [
    "def get_neighbors(data, pos):\n",
    "    if pos[0] + 1 < data.shape[0]:\n",
    "        yield (pos[0] + 1, pos[1])\n",
    "    if pos[0] - 1 >= 0:\n",
    "        yield (pos[0] - 1, pos[1])\n",
    "    if pos[1] + 1 < data.shape[1]:\n",
    "        yield (pos[0], pos[1] + 1)\n",
    "    if pos[1] - 1 >= 0:\n",
    "        yield (pos[0], pos[1] - 1)\n",
    "        \n",
    "def reconstruct_path(came_from, current):\n",
    "    total_path = [current]\n",
    "    while current in came_from:\n",
    "        current = came_from[current]\n",
    "        total_path = [current, *total_path]\n",
    "    return total_path\n",
    "        \n",
    "def get_fastest_path(data, start_pos, end_pos, h):\n",
    "    visited = set()\n",
    "    queue = [start_pos]\n",
    "    \n",
    "    came_from = {}\n",
    "    \n",
    "    g_score = {start_pos: 0}\n",
    "    f_score = {start_pos: h(start_pos)}\n",
    "    \n",
    "    while queue:\n",
    "        pos = queue.pop(0)\n",
    "        if pos in visited:\n",
    "            continue\n",
    "        \n",
    "        visited.add(pos)\n",
    "        \n",
    "        if pos == end_pos:\n",
    "            return reconstruct_path(came_from, pos)\n",
    "        \n",
    "        for neighbor in get_neighbors(data, pos):\n",
    "            tentative_g_score = g_score[pos] + 1\n",
    "            \n",
    "            current_height = data[pos]\n",
    "            neighbor_height = data[neighbor]\n",
    "\n",
    "            if tentative_g_score < g_score.get(neighbor, float('inf')) and current_height + 1 >= neighbor_height:\n",
    "                came_from[neighbor] = pos\n",
    "                g_score[neighbor] = tentative_g_score\n",
    "                f_score[neighbor] = tentative_g_score + h(neighbor)\n",
    "                \n",
    "                if neighbor not in queue:\n",
    "                    queue.append(neighbor)\n",
    "\n",
    "    return None\n",
    "\n",
    "def get_manhattan_distance(pos1, pos2):\n",
    "    return abs(pos1[0] - pos2[0]) + abs(pos1[1] - pos2[1])"
   ]
  },
  {
   "cell_type": "code",
   "execution_count": 3,
   "metadata": {},
   "outputs": [
    {
     "name": "stdout",
     "output_type": "stream",
     "text": [
      "00 .  .  19 18 17 16 15 \n",
      "01 02 .  20 29 28 27 14 \n",
      ".  03 .  21 30 31 26 13 \n",
      ".  04 05 22 23 24 25 12 \n",
      ".  .  06 07 08 09 10 11 \n"
     ]
    }
   ],
   "source": [
    "path = get_fastest_path(weights, start_pos, end_pos, lambda x: get_manhattan_distance(x, end_pos))\n",
    "\n",
    "grid = np.zeros(weights.shape, dtype=str)\n",
    "grid[start_pos[0], start_pos[1]] = 'S'\n",
    "grid[end_pos[0], end_pos[1]] = 'E'\n",
    "\n",
    "for y in range(weights.shape[0]):\n",
    "    for x in range(weights.shape[1]):\n",
    "        print('. ' if (y, x) not in path else f'{path.index((y, x)):02}', end=' ')\n",
    "    print()"
   ]
  },
  {
   "cell_type": "code",
   "execution_count": 4,
   "metadata": {},
   "outputs": [
    {
     "name": "stdout",
     "output_type": "stream",
     "text": [
      "29\n"
     ]
    }
   ],
   "source": [
    "min_path = np.Inf\n",
    "for y in range(weights.shape[0]):\n",
    "    for x in range(weights.shape[1]):\n",
    "        if weights[y, x] == 0:\n",
    "            path = get_fastest_path(weights, (y, x), end_pos, lambda x: get_manhattan_distance(x, end_pos))\n",
    "            if (path is not None and len(path) - 1 < min_path) or min_path is None:\n",
    "                min_path = len(path) - 1\n",
    "print(min_path)"
   ]
  }
 ],
 "metadata": {
  "kernelspec": {
   "display_name": "soccer-event-recognition-aZyLUy-d",
   "language": "python",
   "name": "python3"
  },
  "language_info": {
   "codemirror_mode": {
    "name": "ipython",
    "version": 3
   },
   "file_extension": ".py",
   "mimetype": "text/x-python",
   "name": "python",
   "nbconvert_exporter": "python",
   "pygments_lexer": "ipython3",
   "version": "3.9.7"
  },
  "orig_nbformat": 4,
  "vscode": {
   "interpreter": {
    "hash": "0466501f1b6ab7c1736944a2ab1e87ba0429d855170c43418894b92bec1d0cf1"
   }
  }
 },
 "nbformat": 4,
 "nbformat_minor": 2
}
