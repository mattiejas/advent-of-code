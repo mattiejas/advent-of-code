{
 "cells": [
  {
   "cell_type": "code",
   "execution_count": 1,
   "metadata": {},
   "outputs": [
    {
     "data": {
      "text/plain": [
       "['[Q]         [N]             [N]',\n",
       " '[H]     [B] [D]             [S] [M]',\n",
       " '[C]     [Q] [J]         [V] [Q] [D]',\n",
       " '[T]     [S] [Z] [F]     [J] [J] [W]',\n",
       " '[N] [G] [T] [S] [V]     [B] [C] [C]',\n",
       " '[S] [B] [R] [W] [D] [J] [Q] [R] [Q]',\n",
       " '[V] [D] [W] [G] [P] [W] [N] [T] [S]',\n",
       " '[B] [W] [F] [L] [M] [F] [L] [G] [J]',\n",
       " ' 1   2   3   4   5   6   7   8   9']"
      ]
     },
     "execution_count": 1,
     "metadata": {},
     "output_type": "execute_result"
    }
   ],
   "source": [
    "import input\n",
    "import re\n",
    "\n",
    "input_data = input.read_input(5).splitlines()\n",
    "\n",
    "state_input = []\n",
    "instructions = []\n",
    "read_state = True\n",
    "\n",
    "for line in input_data:\n",
    "    line = line.rstrip()\n",
    "\n",
    "    if line and read_state:\n",
    "        state_input.append(line)\n",
    "    elif line and not read_state:\n",
    "        instructions.append(line)\n",
    "    else:\n",
    "        read_state = False\n",
    "\n",
    "state_input"
   ]
  },
  {
   "cell_type": "code",
   "execution_count": 2,
   "metadata": {},
   "outputs": [
    {
     "data": {
      "text/plain": [
       "'CJVLJQPHS'"
      ]
     },
     "execution_count": 2,
     "metadata": {},
     "output_type": "execute_result"
    }
   ],
   "source": [
    "state = {}\n",
    "in_order = True # part 1 = False, or part 2 = True\n",
    "\n",
    "headers = state_input[-1][1::4]\n",
    "for header in headers:\n",
    "  state[header] = []\n",
    "\n",
    "for line in state_input[:-1]:\n",
    "    line = line[1::4]\n",
    "\n",
    "    for i, char in enumerate(line):\n",
    "        if char == ' ':\n",
    "            continue\n",
    "        state[headers[i]].append(char)\n",
    "\n",
    "# reverse each stack\n",
    "for key in state:\n",
    "    state[key] = state[key][::-1]\n",
    "    \n",
    "regex_pattern = r'move (\\d+) from (\\d+) to (\\d+)'\n",
    "\n",
    "for instruction in instructions:\n",
    "    params = re.match(regex_pattern, instruction).groups()\n",
    "    \n",
    "    if not in_order:\n",
    "      # how many times the move is repeated\n",
    "      for i in range(int(params[0])):\n",
    "          state[params[2]].append(state[params[1]].pop())\n",
    "    else:\n",
    "      to_move = state[params[1]][-int(params[0]):]\n",
    "      state[params[1]] = state[params[1]][:-int(params[0])]\n",
    "      state[params[2]] = state[params[2]] + to_move\n",
    "        \n",
    "str.join('', [s.pop() for s in state.values()])"
   ]
  }
 ],
 "metadata": {
  "kernelspec": {
   "display_name": "Python 3.9.13 ('advent-of-code-lC4GFVMo')",
   "language": "python",
   "name": "python3"
  },
  "language_info": {
   "codemirror_mode": {
    "name": "ipython",
    "version": 3
   },
   "file_extension": ".py",
   "mimetype": "text/x-python",
   "name": "python",
   "nbconvert_exporter": "python",
   "pygments_lexer": "ipython3",
   "version": "3.9.13"
  },
  "orig_nbformat": 4,
  "vscode": {
   "interpreter": {
    "hash": "8500e7addda830096dcc469f41c021a5486488eba5a8b31bd2d72aefed90f111"
   }
  }
 },
 "nbformat": 4,
 "nbformat_minor": 2
}
