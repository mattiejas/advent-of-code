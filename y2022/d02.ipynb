{
 "cells": [
  {
   "cell_type": "code",
   "execution_count": 5,
   "metadata": {},
   "outputs": [
    {
     "data": {
      "text/plain": [
       "14163"
      ]
     },
     "execution_count": 5,
     "metadata": {},
     "output_type": "execute_result"
    }
   ],
   "source": [
    "import input\n",
    "\n",
    "points_for_shape = {\n",
    "  'A': 1,\n",
    "  'B': 2,\n",
    "  'C': 3,\n",
    "}\n",
    "\n",
    "points_for_result = {\n",
    "  'lose': 0,\n",
    "  'draw': 3,\n",
    "  'win': 6,\n",
    "}\n",
    "\n",
    "def play_round(player1, player2):\n",
    "  if player1 == player2:\n",
    "    return 'draw'\n",
    "  elif (player1 == 'A' and player2 == 'C') or (player1 == 'B' and player2 == 'A') or (player1 == 'C' and player2 == 'B'):\n",
    "    return 'win'\n",
    "  else:\n",
    "    return 'lose'\n",
    "\n",
    "data = [line.split() for line in input.read_input(2).splitlines()]\n",
    "data = [(shape, 'A' if result == 'X' else 'B' if result == 'Y' else 'C') for shape, result in data]\n",
    "\n",
    "scores = [points_for_shape[player2] + points_for_result[play_round(player2, player1)] for player1, player2 in data]\n",
    "sum(scores)"
   ]
  },
  {
   "cell_type": "code",
   "execution_count": 10,
   "metadata": {},
   "outputs": [
    {
     "data": {
      "text/plain": [
       "12091"
      ]
     },
     "execution_count": 10,
     "metadata": {},
     "output_type": "execute_result"
    }
   ],
   "source": [
    "data = [line.split() for line in input.read_input(2).splitlines()]\n",
    "data = [(shape, 'lose' if result == 'X' else 'draw' if result == 'Y' else 'win') for shape, result in data]\n",
    "\n",
    "def find_move_for_result(player1, result):\n",
    "  for player2 in 'ABC':\n",
    "    if play_round(player2, player1) == result:\n",
    "      return player2\n",
    "    \n",
    "moves = [find_move_for_result(player1, result) for player1, result in data]\n",
    "scores = [points_for_shape[player2] + points_for_result[result[1]] for player2, result in zip(moves, data)]\n",
    "sum(scores)"
   ]
  }
 ],
 "metadata": {
  "kernelspec": {
   "display_name": "Python 3.9.13 ('advent-of-code-lC4GFVMo')",
   "language": "python",
   "name": "python3"
  },
  "language_info": {
   "codemirror_mode": {
    "name": "ipython",
    "version": 3
   },
   "file_extension": ".py",
   "mimetype": "text/x-python",
   "name": "python",
   "nbconvert_exporter": "python",
   "pygments_lexer": "ipython3",
   "version": "3.9.13"
  },
  "orig_nbformat": 4,
  "vscode": {
   "interpreter": {
    "hash": "8500e7addda830096dcc469f41c021a5486488eba5a8b31bd2d72aefed90f111"
   }
  }
 },
 "nbformat": 4,
 "nbformat_minor": 2
}
