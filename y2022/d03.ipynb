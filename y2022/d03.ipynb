{
 "cells": [
  {
   "cell_type": "code",
   "execution_count": 1,
   "metadata": {},
   "outputs": [],
   "source": [
    "import input\n",
    "import string\n",
    "\n",
    "input_data = input.read_input(3).splitlines()\n",
    "\n",
    "def get_priority_score(input):\n",
    "  return sum([\n",
    "    string.ascii_lowercase.index(intersection) + 1 # zero-indexed\n",
    "    if intersection.islower() \n",
    "    else string.ascii_uppercase.index(intersection) + 27 # zero-indexed + 26 for lowercase\n",
    "    for intersection in input\n",
    "  ])"
   ]
  },
  {
   "cell_type": "code",
   "execution_count": 2,
   "metadata": {},
   "outputs": [
    {
     "data": {
      "text/plain": [
       "8252"
      ]
     },
     "execution_count": 2,
     "metadata": {},
     "output_type": "execute_result"
    }
   ],
   "source": [
    "data = [(line[:len(line)//2], line[len(line)//2:]) for line in input_data] # split the input into two lists\n",
    "\n",
    "sort_key = lambda x: (not x.islower(), x) # sort by lowercase first, then by alphabetical order\n",
    "data = [(sorted(line[0], key=sort_key), sorted(line[1], key=sort_key)) for line in data]\n",
    "\n",
    "intersections = [list(set(line[0]) & set(line[1]))[0] for line in data] # get the intersection of the two lines\n",
    "get_priority_score(intersections)"
   ]
  },
  {
   "cell_type": "code",
   "execution_count": 3,
   "metadata": {},
   "outputs": [
    {
     "data": {
      "text/plain": [
       "2828"
      ]
     },
     "execution_count": 3,
     "metadata": {},
     "output_type": "execute_result"
    }
   ],
   "source": [
    "data = [input_data[i:i+3] for i in range(0, len(input_data), 3)] # split the input into groups of 3\n",
    "\n",
    "intersections = [list(set(line[0]) & set(line[1]) & set(line[2]))[0] for line in data] # get the intersection of the three lines in each group\n",
    "get_priority_score(intersections)"
   ]
  }
 ],
 "metadata": {
  "kernelspec": {
   "display_name": "Python 3.9.13 ('advent-of-code-lC4GFVMo')",
   "language": "python",
   "name": "python3"
  },
  "language_info": {
   "codemirror_mode": {
    "name": "ipython",
    "version": 3
   },
   "file_extension": ".py",
   "mimetype": "text/x-python",
   "name": "python",
   "nbconvert_exporter": "python",
   "pygments_lexer": "ipython3",
   "version": "3.9.13"
  },
  "orig_nbformat": 4,
  "vscode": {
   "interpreter": {
    "hash": "8500e7addda830096dcc469f41c021a5486488eba5a8b31bd2d72aefed90f111"
   }
  }
 },
 "nbformat": 4,
 "nbformat_minor": 2
}
