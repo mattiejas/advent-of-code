{
 "metadata": {
  "language_info": {
   "codemirror_mode": {
    "name": "ipython",
    "version": 3
   },
   "file_extension": ".py",
   "mimetype": "text/x-python",
   "name": "python",
   "nbconvert_exporter": "python",
   "pygments_lexer": "ipython3",
   "version": "3.8.3-final"
  },
  "orig_nbformat": 2,
  "kernelspec": {
   "name": "python3",
   "display_name": "Python 3"
  }
 },
 "nbformat": 4,
 "nbformat_minor": 2,
 "cells": [
  {
   "cell_type": "code",
   "execution_count": 1,
   "metadata": {},
   "outputs": [],
   "source": [
    "import numpy as np"
   ]
  },
  {
   "source": [
    "# Day 1: Not Quite Lisp\n",
    "\n",
    "Santa was hoping for a white Christmas, but his weather machine's \"snow\" function is powered by stars, and he's fresh out! To save Christmas, he needs you to collect fifty stars by December 25th.\n",
    "\n",
    "Collect stars by helping Santa solve puzzles. Two puzzles will be made available on each day in the Advent calendar; the second puzzle is unlocked when you complete the first. Each puzzle grants one star. Good luck!\n",
    "\n",
    "Here's an easy puzzle to warm you up.\n",
    "\n",
    "Santa is trying to deliver presents in a large apartment building, but he can't find the right floor - the directions he got are a little confusing. He starts on the ground floor (floor 0) and then follows the instructions one character at a time.\n",
    "\n",
    "An opening parenthesis, `(`, means he should go up one floor, and a closing parenthesis, `)`, means he should go down one floor.\n",
    "\n",
    "The apartment building is very tall, and the basement is very deep; he will never find the top or bottom floors.\n",
    "\n",
    "For example:\n",
    "\n",
    "- (()) and ()() both result in floor 0.\n",
    "- ((( and (()(()( both result in floor 3.\n",
    "- ))((((( also results in floor 3.\n",
    "- ()) and ))( both result in floor -1 (the first basement level).\n",
    "- ))) and )())()) both result in floor -3.\n",
    "\n",
    "To what floor do the instructions take Santa?"
   ],
   "cell_type": "markdown",
   "metadata": {}
  },
  {
   "cell_type": "code",
   "execution_count": 2,
   "metadata": {},
   "outputs": [
    {
     "output_type": "execute_result",
     "data": {
      "text/plain": [
       "138"
      ]
     },
     "metadata": {},
     "execution_count": 2
    }
   ],
   "source": [
    "data = np.array(list(open('input/d1.dat').readline().strip()))\n",
    "np.array(list(map(lambda x: 1 if x == '(' else -1, data))).sum()"
   ]
  },
  {
   "source": [
    "## Part Two\n",
    "\n",
    "Now, given the same instructions, find the position of the first character that causes him to enter the basement (floor -1). The first character in the instructions has position 1, the second character has position 2, and so on.\n",
    "\n",
    "For example:\n",
    "\n",
    ") causes him to enter the basement at character position 1.\n",
    "()()) causes him to enter the basement at character position 5.\n",
    "What is the position of the character that causes Santa to first enter the basement?"
   ],
   "cell_type": "markdown",
   "metadata": {}
  },
  {
   "cell_type": "code",
   "execution_count": 3,
   "metadata": {},
   "outputs": [
    {
     "output_type": "stream",
     "name": "stdout",
     "text": [
      "1771\n"
     ]
    }
   ],
   "source": [
    "floor = 0\n",
    "\n",
    "for i, x in enumerate(data):\n",
    "    floor += 1 if x == '(' else -1\n",
    "    if floor == -1:\n",
    "        print(i+1)  # print when on ground floor\n",
    "        break"
   ]
  }
 ]
}