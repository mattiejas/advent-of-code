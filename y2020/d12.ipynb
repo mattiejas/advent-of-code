{
 "metadata": {
  "language_info": {
   "codemirror_mode": {
    "name": "ipython",
    "version": 3
   },
   "file_extension": ".py",
   "mimetype": "text/x-python",
   "name": "python",
   "nbconvert_exporter": "python",
   "pygments_lexer": "ipython3",
   "version": "3.8.6-final"
  },
  "orig_nbformat": 2,
  "kernelspec": {
   "name": "python3",
   "display_name": "Python 3",
   "language": "python"
  }
 },
 "nbformat": 4,
 "nbformat_minor": 2,
 "cells": [
  {
   "cell_type": "code",
   "execution_count": 1,
   "metadata": {},
   "outputs": [],
   "source": [
    "import os\n",
    "import sys\n",
    "sys.path.insert(0, os.path.abspath('../utils'))\n",
    "\n",
    "import numpy as np\n",
    "import file_utils\n",
    "from itertools import chain, combinations"
   ]
  },
  {
   "source": [
    "# Day 12: Rain Risk\n",
    "Your ferry made decent progress toward the island, but the storm came in faster than anyone expected. The ferry needs to take evasive actions!\n",
    "\n",
    "Unfortunately, the ship's navigation computer seems to be malfunctioning; rather than giving a route directly to safety, it produced extremely circuitous instructions. When the captain uses the PA system to ask if anyone can help, you quickly volunteer.\n",
    "\n",
    "The navigation instructions (your puzzle input) consists of a sequence of single-character actions paired with integer input values. After staring at them for a few minutes, you work out what they probably mean:\n",
    "\n",
    "- Action N means to move north by the given value.\n",
    "- Action S means to move south by the given value.\n",
    "- Action E means to move east by the given value.\n",
    "- Action W means to move west by the given value.\n",
    "- Action L means to turn left the given number of degrees.\n",
    "- Action R means to turn right the given number of degrees.\n",
    "- Action F means to move forward by the given value in the direction the ship is currently facing.\n",
    "\n",
    "The ship starts by facing east. Only the L and R actions change the direction the ship is facing. (That is, if the ship is facing east and the next instruction is N10, the ship would move north 10 units, but would still move east if the following action were F.)\n",
    "\n",
    "For example:\n",
    "\n",
    "```\n",
    "F10\n",
    "N3\n",
    "F7\n",
    "R90\n",
    "F11\n",
    "```\n",
    "\n",
    "These instructions would be handled as follows:\n",
    "\n",
    "- F10 would move the ship 10 units east (because the ship starts by facing east) to east 10, north 0.\n",
    "- N3 would move the ship 3 units north to east 10, north 3.\n",
    "- F7 would move the ship another 7 units east (because the ship is still facing east) to east 17, north 3.\n",
    "- R90 would cause the ship to turn right by 90 degrees and face south; it remains at east 17, north 3.\n",
    "- F11 would move the ship 11 units south to east 17, south 8.\n",
    "\n",
    "At the end of these instructions, the ship's Manhattan distance (sum of the absolute values of its east/west position and its north/south position) from its starting position is 17 + 8 = 25.\n",
    "\n",
    "Figure out where the navigation instructions lead. What is the Manhattan distance between that location and the ship's starting position?"
   ],
   "cell_type": "markdown",
   "metadata": {}
  },
  {
   "cell_type": "code",
   "execution_count": 2,
   "metadata": {},
   "outputs": [
    {
     "output_type": "execute_result",
     "data": {
      "text/plain": [
       "array(['F92', 'R180', 'S1'], dtype='<U4')"
      ]
     },
     "metadata": {},
     "execution_count": 2
    }
   ],
   "source": [
    "instructions = file_utils.read(2020, 12)\n",
    "instructions[:3]"
   ]
  },
  {
   "cell_type": "code",
   "execution_count": 3,
   "metadata": {},
   "outputs": [
    {
     "output_type": "stream",
     "name": "stdout",
     "text": [
      "[658 824]\n"
     ]
    },
    {
     "output_type": "execute_result",
     "data": {
      "text/plain": [
       "1482"
      ]
     },
     "metadata": {},
     "execution_count": 3
    }
   ],
   "source": [
    "direction = 90              # direction of boat\n",
    "coor = np.array([0, 0])     # coordinates of boat\n",
    "\n",
    "for instr in instructions:\n",
    "    action = instr[0]\n",
    "    arg = int(instr[1:])\n",
    "\n",
    "    if action == 'R':\n",
    "        direction += arg\n",
    "\n",
    "    if action == 'L':\n",
    "        direction -= arg\n",
    "\n",
    "    if action == 'F':\n",
    "        y = int(arg * np.cos(np.radians(direction))) * -1\n",
    "        x = int(arg * np.sin(np.radians(direction)))\n",
    "        coor += (x, y)\n",
    "\n",
    "    if action == 'N':\n",
    "        coor[1] -= arg\n",
    "\n",
    "    if action == 'E':\n",
    "        coor[0] += arg\n",
    "\n",
    "    if action == 'S':\n",
    "        coor[1] += arg\n",
    "\n",
    "    if action == 'W':\n",
    "        coor[0] -= arg\n",
    "\n",
    "print(coor)\n",
    "np.abs(coor[0]) + np.abs(coor[1])"
   ]
  },
  {
   "source": [
    "# Part Two\n",
    "Before you can give the destination to the captain, you realize that the actual action meanings were printed on the back of the instructions the whole time.\n",
    "\n",
    "Almost all of the actions indicate how to move a waypoint which is relative to the ship's position:\n",
    "\n",
    "- Action N means to move the waypoint north by the given value.\n",
    "- Action S means to move the waypoint south by the given value.\n",
    "- Action E means to move the waypoint east by the given value.\n",
    "- Action W means to move the waypoint west by the given value.\n",
    "- Action L means to rotate the waypoint around the ship left (counter-clockwise) the given number of degrees.\n",
    "- Action R means to rotate the waypoint around the ship right (clockwise) the given number of degrees.\n",
    "- Action F means to move forward to the waypoint a number of times equal to the given value.\n",
    "\n",
    "The waypoint starts 10 units east and 1 unit north relative to the ship. The waypoint is relative to the ship; that is, if the ship moves, the waypoint moves with it.\n",
    "\n",
    "For example, using the same instructions as above:\n",
    "\n",
    "- F10 moves the ship to the waypoint 10 times (a total of 100 units east and 10 units north), leaving the ship at east 100, north 10. The waypoint stays 10 units east and 1 unit north of the ship.\n",
    "- N3 moves the waypoint 3 units north to 10 units east and 4 units north of the ship. The ship remains at east 100, north 10.\n",
    "- F7 moves the ship to the waypoint 7 times (a total of 70 units east and 28 units north), leaving the ship at east 170, north 38. The waypoint stays 10 units east and 4 units north of the ship.\n",
    "- R90 rotates the waypoint around the ship clockwise 90 degrees, moving it to 4 units east and 10 units south of the ship. The ship remains at east 170, north 38.\n",
    "- F11 moves the ship to the waypoint 11 times (a total of 44 units east and 110 units south), leaving the ship at east 214, south 72. The waypoint stays 4 units east and 10 units south of the ship.\n",
    "After these operations, the ship's Manhattan distance from its starting position is 214 + 72 = 286.\n",
    "\n",
    "Figure out where the navigation instructions actually lead. What is the Manhattan distance between that location and the ship's starting position?"
   ],
   "cell_type": "markdown",
   "metadata": {}
  },
  {
   "cell_type": "code",
   "execution_count": 4,
   "metadata": {
    "tags": []
   },
   "outputs": [
    {
     "output_type": "execute_result",
     "data": {
      "text/plain": [
       "48739"
      ]
     },
     "metadata": {},
     "execution_count": 4
    }
   ],
   "source": [
    "coor = np.array([0, 0])         # coordinates of boat\n",
    "waypoint = np.array([10, -1])\n",
    "\n",
    "for instr in instructions:\n",
    "    action = instr[0]\n",
    "    arg = int(instr[1:])\n",
    "\n",
    "    if action in ['R', 'L']:\n",
    "        beta = np.radians(arg)\n",
    "        if action == 'R':\n",
    "            beta = np.radians(-arg)\n",
    "\n",
    "        y1 = waypoint[0]\n",
    "        x1 = waypoint[1]\n",
    "        y2 = x1 * np.cos(beta) - y1 * np.sin(beta)\n",
    "        x2 = x1 * np.sin(beta) + y1 * np.cos(beta)\n",
    "        waypoint = np.array([round(x2), round(y2)], dtype=np.int)\n",
    "\n",
    "    if action == 'F':\n",
    "        y = (arg * waypoint[1])\n",
    "        x = (arg * waypoint[0])\n",
    "        coor += (x, y)\n",
    "\n",
    "    if action == 'N':\n",
    "        waypoint[1] -= arg\n",
    "\n",
    "    if action == 'E':\n",
    "        waypoint[0] += arg\n",
    "\n",
    "    if action == 'S':\n",
    "        waypoint[1] += arg\n",
    "\n",
    "    if action == 'W':\n",
    "        waypoint[0] -= arg\n",
    "\n",
    "np.abs(coor[0]) + np.abs(coor[1])"
   ]
  }
 ]
}