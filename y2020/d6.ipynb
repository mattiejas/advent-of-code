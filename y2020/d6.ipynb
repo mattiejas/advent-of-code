{
 "metadata": {
  "language_info": {
   "codemirror_mode": {
    "name": "ipython",
    "version": 3
   },
   "file_extension": ".py",
   "mimetype": "text/x-python",
   "name": "python",
   "nbconvert_exporter": "python",
   "pygments_lexer": "ipython3",
   "version": "3.8.6-final"
  },
  "orig_nbformat": 2,
  "kernelspec": {
   "name": "python3",
   "display_name": "Python 3"
  }
 },
 "nbformat": 4,
 "nbformat_minor": 2,
 "cells": [
  {
   "cell_type": "code",
   "execution_count": 1,
   "metadata": {},
   "outputs": [],
   "source": [
    "import numpy as np\n",
    "from functools import reduce"
   ]
  },
  {
   "source": [
    "# Day 6: Custom Customs\n",
    "As your flight approaches the regional airport where you'll switch to a much larger plane, customs declaration forms are distributed to the passengers.\n",
    "\n",
    "The form asks a series of 26 yes-or-no questions marked a through z. All you need to do is identify the questions for which anyone in your group answers \"yes\". Since your group is just you, this doesn't take very long.\n",
    "\n",
    "However, the person sitting next to you seems to be experiencing a language barrier and asks if you can help. For each of the people in their group, you write down the questions for which they answer \"yes\", one per line. For example:\n",
    "\n",
    "abcx\n",
    "abcy\n",
    "abcz\n",
    "In this group, there are 6 questions to which anyone answered \"yes\": a, b, c, x, y, and z. (Duplicate answers to the same question don't count extra; each question counts at most once.)\n",
    "\n",
    "Another group asks for your help, then another, and eventually you've collected answers from every group on the plane (your puzzle input). Each group's answers are separated by a blank line, and within each group, each person's answers are on a single line. For example:\n",
    "\n",
    "```\n",
    "abc\n",
    "\n",
    "a\n",
    "b\n",
    "c\n",
    "\n",
    "ab\n",
    "ac\n",
    "\n",
    "a\n",
    "a\n",
    "a\n",
    "a\n",
    "\n",
    "b\n",
    "```\n",
    "\n",
    "This list represents answers from five groups:\n",
    "\n",
    "The first group contains one person who answered \"yes\" to 3 questions: a, b, and c.\n",
    "The second group contains three people; combined, they answered \"yes\" to 3 questions: a, b, and c.\n",
    "The third group contains two people; combined, they answered \"yes\" to 3 questions: a, b, and c.\n",
    "The fourth group contains four people; combined, they answered \"yes\" to only 1 question, a.\n",
    "The last group contains one person who answered \"yes\" to only 1 question, b.\n",
    "In this example, the sum of these counts is 3 + 3 + 3 + 1 + 1 = 11.\n",
    "\n",
    "For each group, count the number of questions to which anyone answered \"yes\". What is the sum of those counts?"
   ],
   "cell_type": "markdown",
   "metadata": {}
  },
  {
   "cell_type": "code",
   "execution_count": 2,
   "metadata": {},
   "outputs": [
    {
     "output_type": "execute_result",
     "data": {
      "text/plain": [
       "[[['i', 'w', 'a', 'd', 'u', 'e', 'r', 'm', 'z', 'f', 'y', 'c'],\n",
       "  ['z', 'd', 'm', 'r', 'l', 'f', 'y', 'a', 'u'],\n",
       "  ['w', 'f', 'd', 'z', 'h', 'r', 'm', 'a', 'u', 'y'],\n",
       "  ['y', 'f', 'z', 'd', 'm', 'a', 'r', 'u'],\n",
       "  ['d',\n",
       "   't',\n",
       "   'a',\n",
       "   'g',\n",
       "   'q',\n",
       "   'z',\n",
       "   'b',\n",
       "   'o',\n",
       "   'v',\n",
       "   'p',\n",
       "   'r',\n",
       "   'n',\n",
       "   'y',\n",
       "   'u',\n",
       "   'f',\n",
       "   'm']]]"
      ]
     },
     "metadata": {},
     "execution_count": 2
    }
   ],
   "source": [
    "groups = []\n",
    "\n",
    "with open('input/d6.dat') as f:\n",
    "    group = []\n",
    "    for x in f.readlines():\n",
    "        if x == '\\n':\n",
    "            groups.append(group)\n",
    "            group = []\n",
    "            continue\n",
    "        group.append(list(x.strip()))\n",
    "    groups.append(group)\n",
    "\n",
    "groups[:1]"
   ]
  },
  {
   "cell_type": "code",
   "execution_count": 3,
   "metadata": {},
   "outputs": [
    {
     "output_type": "execute_result",
     "data": {
      "text/plain": [
       "6625"
      ]
     },
     "metadata": {},
     "execution_count": 3
    }
   ],
   "source": [
    "def get_n_unique(group):\n",
    "    unique = set()\n",
    "    for x in group:\n",
    "        unique.update(x)\n",
    "    return len(unique)\n",
    "\n",
    "np.array([get_n_unique(g) for g in groups]).sum()"
   ]
  },
  {
   "source": [
    "# Part Two\n",
    "As you finish the last group's customs declaration, you notice that you misread one word in the instructions:\n",
    "\n",
    "You don't need to identify the questions to which anyone answered \"yes\"; you need to identify the questions to which everyone answered \"yes\"!\n",
    "\n",
    "Using the same example as above:\n",
    "\n",
    "```\n",
    "abc\n",
    "\n",
    "a\n",
    "b\n",
    "c\n",
    "\n",
    "ab\n",
    "ac\n",
    "\n",
    "a\n",
    "a\n",
    "a\n",
    "a\n",
    "\n",
    "b\n",
    "```\n",
    "\n",
    "This list represents answers from five groups:\n",
    "\n",
    "In the first group, everyone (all 1 person) answered \"yes\" to 3 questions: a, b, and c.\n",
    "In the second group, there is no question to which everyone answered \"yes\".\n",
    "In the third group, everyone answered yes to only 1 question, a. Since some people did not answer \"yes\" to b or c, they don't count.\n",
    "In the fourth group, everyone answered yes to only 1 question, a.\n",
    "In the fifth group, everyone (all 1 person) answered \"yes\" to 1 question, b.\n",
    "In this example, the sum of these counts is 3 + 0 + 1 + 1 + 1 = 6.\n",
    "\n",
    "For each group, count the number of questions to which everyone answered \"yes\". What is the sum of those counts?"
   ],
   "cell_type": "markdown",
   "metadata": {}
  },
  {
   "cell_type": "code",
   "execution_count": 4,
   "metadata": {
    "tags": []
   },
   "outputs": [
    {
     "output_type": "execute_result",
     "data": {
      "text/plain": [
       "3360"
      ]
     },
     "metadata": {},
     "execution_count": 4
    }
   ],
   "source": [
    "def get_n_intersect(group):\n",
    "    if len(group) == 1:\n",
    "        return len(group[0])\n",
    "\n",
    "    intersect = reduce(np.intersect1d, group)\n",
    "    return len(intersect)\n",
    "\n",
    "np.array([get_n_intersect(g) for g in groups]).sum()"
   ]
  }
 ]
}