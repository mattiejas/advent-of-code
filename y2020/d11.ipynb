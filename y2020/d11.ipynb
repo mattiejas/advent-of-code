{
 "metadata": {
  "language_info": {
   "codemirror_mode": {
    "name": "ipython",
    "version": 3
   },
   "file_extension": ".py",
   "mimetype": "text/x-python",
   "name": "python",
   "nbconvert_exporter": "python",
   "pygments_lexer": "ipython3",
   "version": "3.8.6-final"
  },
  "orig_nbformat": 2,
  "kernelspec": {
   "name": "python3",
   "display_name": "Python 3.8.6 64-bit ('advent-of-code': pipenv)",
   "metadata": {
    "interpreter": {
     "hash": "3451c0811e19b5d04077f1fa8065ac00cb5d6199fe8db8edb664c484c0569830"
    }
   }
  }
 },
 "nbformat": 4,
 "nbformat_minor": 2,
 "cells": [
  {
   "cell_type": "code",
   "execution_count": 1,
   "metadata": {},
   "outputs": [],
   "source": [
    "import os\n",
    "import sys\n",
    "sys.path.insert(0, os.path.abspath('../utils'))\n",
    "\n",
    "import numpy as np\n",
    "import file_utils\n",
    "from itertools import chain, combinations"
   ]
  },
  {
   "source": [
    "# Day 11: Seating System\n",
    "Your plane lands with plenty of time to spare. The final leg of your journey is a ferry that goes directly to the tropical island where you can finally start your vacation. As you reach the waiting area to board the ferry, you realize you're so early, nobody else has even arrived yet!\n",
    "\n",
    "By modeling the process people use to choose (or abandon) their seat in the waiting area, you're pretty sure you can predict the best place to sit. You make a quick map of the seat layout (your puzzle input).\n",
    "\n",
    "The seat layout fits neatly on a grid. Each position is either floor (.), an empty seat (L), or an occupied seat (#). For example, the initial seat layout might look like this:\n",
    "\n",
    "```\n",
    "L.LL.LL.LL\n",
    "LLLLLLL.LL\n",
    "L.L.L..L..\n",
    "LLLL.LL.LL\n",
    "L.LL.LL.LL\n",
    "L.LLLLL.LL\n",
    "..L.L.....\n",
    "LLLLLLLLLL\n",
    "L.LLLLLL.L\n",
    "L.LLLLL.LL\n",
    "```\n",
    "\n",
    "Now, you just need to model the people who will be arriving shortly. Fortunately, people are entirely predictable and always follow a simple set of rules. All decisions are based on the number of occupied seats adjacent to a given seat (one of the eight positions immediately up, down, left, right, or diagonal from the seat). The following rules are applied to every seat simultaneously:\n",
    "\n",
    "If a seat is empty (L) and there are no occupied seats adjacent to it, the seat becomes occupied.\n",
    "If a seat is occupied (#) and four or more seats adjacent to it are also occupied, the seat becomes empty.\n",
    "Otherwise, the seat's state does not change.\n",
    "Floor (.) never changes; seats don't move, and nobody sits on the floor.\n",
    "\n",
    "After one round of these rules, every seat in the example layout becomes occupied:\n",
    "\n",
    "```\n",
    "#.##.##.##\n",
    "#######.##\n",
    "#.#.#..#..\n",
    "####.##.##\n",
    "#.##.##.##\n",
    "#.#####.##\n",
    "..#.#.....\n",
    "##########\n",
    "#.######.#\n",
    "#.#####.##\n",
    "```\n",
    "\n",
    "After a second round, the seats with four or more occupied adjacent seats become empty again:\n",
    "\n",
    "```\n",
    "#.LL.L#.##\n",
    "#LLLLLL.L#\n",
    "L.L.L..L..\n",
    "#LLL.LL.L#\n",
    "#.LL.LL.LL\n",
    "#.LLLL#.##\n",
    "..L.L.....\n",
    "#LLLLLLLL#\n",
    "#.LLLLLL.L\n",
    "#.#LLLL.##\n",
    "```\n",
    "\n",
    "This process continues for three more rounds:\n",
    "\n",
    "```\n",
    "#.##.L#.##\n",
    "#L###LL.L#\n",
    "L.#.#..#..\n",
    "#L##.##.L#\n",
    "#.##.LL.LL\n",
    "#.###L#.##\n",
    "..#.#.....\n",
    "#L######L#\n",
    "#.LL###L.L\n",
    "#.#L###.##\n",
    "```\n",
    "```\n",
    "#.#L.L#.##\n",
    "#LLL#LL.L#\n",
    "L.L.L..#..\n",
    "#LLL.##.L#\n",
    "#.LL.LL.LL\n",
    "#.LL#L#.##\n",
    "..L.L.....\n",
    "#L#LLLL#L#\n",
    "#.LLLLLL.L\n",
    "#.#L#L#.##\n",
    "```\n",
    "```\n",
    "#.#L.L#.##\n",
    "#LLL#LL.L#\n",
    "L.#.L..#..\n",
    "#L##.##.L#\n",
    "#.#L.LL.LL\n",
    "#.#L#L#.##\n",
    "..L.L.....\n",
    "#L#L##L#L#\n",
    "#.LLLLLL.L\n",
    "#.#L#L#.##\n",
    "```\n",
    "\n",
    "At this point, something interesting happens: the chaos stabilizes and further applications of these rules cause no seats to change state! Once people stop moving around, you count 37 occupied seats.\n",
    "\n",
    "Simulate your seating area by applying the seating rules repeatedly until no seats change state. How many seats end up occupied?"
   ],
   "cell_type": "markdown",
   "metadata": {}
  },
  {
   "cell_type": "code",
   "execution_count": 2,
   "metadata": {},
   "outputs": [
    {
     "output_type": "stream",
     "name": "stdout",
     "text": [
      "[['L' 'L' 'L' ... 'L' 'L' 'L']\n ['L' 'L' 'L' ... 'L' 'L' 'L']\n ['L' 'L' 'L' ... 'L' 'L' 'L']\n ...\n ['L' 'L' 'L' ... 'L' 'L' 'L']\n ['L' 'L' 'L' ... 'L' 'L' 'L']\n ['L' 'L' 'L' ... 'L' 'L' 'L']]\n"
     ]
    }
   ],
   "source": [
    "seats = file_utils.read(2020, 11)\n",
    "seats = np.array([list(row) for row in seats])\n",
    "\n",
    "print(seats)"
   ]
  },
  {
   "cell_type": "code",
   "execution_count": 3,
   "metadata": {},
   "outputs": [],
   "source": [
    "def adjacent_seats(seats, x, y):\n",
    "    adjacent = []\n",
    "\n",
    "    if y > 0:\n",
    "        # check upper\n",
    "        adjacent.append(seats[y-1,x])    \n",
    "\n",
    "    if y > 0 and x < seats.shape[1] - 1:\n",
    "        # check upper right\n",
    "        adjacent.append(seats[y-1,x+1])\n",
    "\n",
    "    if x < seats.shape[1] - 1:\n",
    "        # check right\n",
    "        adjacent.append(seats[y,x+1])\n",
    "\n",
    "    if y < seats.shape[0] - 1 and x < seats.shape[1] - 1:\n",
    "        # check down right \n",
    "        adjacent.append(seats[y+1,x+1])\n",
    "\n",
    "    if y < seats.shape[0] - 1:\n",
    "        # check down\n",
    "        adjacent.append(seats[y+1,x])\n",
    "\n",
    "    if y < seats.shape[0] - 1 and x > 0:\n",
    "        # check down left\n",
    "        adjacent.append(seats[y+1,x-1])\n",
    "\n",
    "    if x > 0:\n",
    "        # check left  \n",
    "        adjacent.append(seats[y,x-1])\n",
    "\n",
    "    if y > 0 and x > 0:\n",
    "        # check upper left\n",
    "        adjacent.append(seats[y-1,x-1])\n",
    "\n",
    "    return np.array(adjacent)"
   ]
  },
  {
   "cell_type": "code",
   "execution_count": 4,
   "metadata": {},
   "outputs": [],
   "source": [
    "def simulate_seating(seats):\n",
    "    updated = seats.copy()\n",
    "    for y, row in enumerate(seats):\n",
    "        for x, seat in enumerate(row):\n",
    "            if seat_is_ready_to_be_occupied(seats, x, y):\n",
    "                updated[y,x] = '#'\n",
    "            if seat_is_left(seats, x, y):\n",
    "                updated[y,x] = 'L'\n",
    "    \n",
    "    if (seats == updated).all():\n",
    "        return updated, True # stabilized\n",
    "    return updated, False\n",
    "\n",
    "def seat_is_ready_to_be_occupied(seats, x, y):\n",
    "    seat = seats[y, x]\n",
    "    if seat == 'L':\n",
    "        s = adjacent_seats(seats, x, y)\n",
    "        return np.sum(s == '#') == 0\n",
    "    return False\n",
    "\n",
    "def seat_is_left(seats, x, y):\n",
    "    seat = seats[y, x]\n",
    "    if seat == '#':\n",
    "        s = adjacent_seats(seats, x, y)\n",
    "        return np.sum(s == '#') >= 4\n",
    "    return False"
   ]
  },
  {
   "cell_type": "code",
   "execution_count": 5,
   "metadata": {},
   "outputs": [
    {
     "output_type": "execute_result",
     "data": {
      "text/plain": [
       "2194"
      ]
     },
     "metadata": {},
     "execution_count": 5
    }
   ],
   "source": [
    "stabilized = False\n",
    "s = seats\n",
    "while not stabilized:\n",
    "    s, stabilized = simulate_seating(s)\n",
    "\n",
    "len(np.where(s == '#')[0])"
   ]
  },
  {
   "source": [
    "# Part Two\n",
    "As soon as people start to arrive, you realize your mistake. People don't just care about adjacent seats - they care about the first seat they can see in each of those eight directions!\n",
    "\n",
    "Now, instead of considering just the eight immediately adjacent seats, consider the first seat in each of those eight directions. For example, the empty seat below would see eight occupied seats:\n",
    "\n",
    "```\n",
    ".......#.\n",
    "...#.....\n",
    ".#.......\n",
    ".........\n",
    "..#L....#\n",
    "....#....\n",
    ".........\n",
    "#........\n",
    "...#.....\n",
    "```\n",
    "\n",
    "The leftmost empty seat below would only see one empty seat, but cannot see any of the occupied ones:\n",
    "\n",
    "```\n",
    ".............\n",
    ".L.L.#.#.#.#.\n",
    ".............\n",
    "```\n",
    "\n",
    "The empty seat below would see no occupied seats:\n",
    "\n",
    "```\n",
    ".##.##.\n",
    "#.#.#.#\n",
    "##...##\n",
    "...L...\n",
    "##...##\n",
    "#.#.#.#\n",
    ".##.##.\n",
    "```\n",
    "\n",
    "Also, people seem to be more tolerant than you expected: it now takes five or more visible occupied seats for an occupied seat to become empty (rather than four or more from the previous rules). The other rules still apply: empty seats that see no occupied seats become occupied, seats matching no rule don't change, and floor never changes.\n",
    "\n",
    "Again, at this point, people stop shifting around and the seating area reaches equilibrium. Once this occurs, you count 26 occupied seats.\n",
    "\n",
    "Given the new visibility method and the rule change for occupied seats becoming empty, once equilibrium is reached, how many seats end up occupied?"
   ],
   "cell_type": "markdown",
   "metadata": {}
  },
  {
   "cell_type": "code",
   "execution_count": 6,
   "metadata": {
    "tags": []
   },
   "outputs": [
    {
     "output_type": "execute_result",
     "data": {
      "text/plain": [
       "array(['L', 'L', 'L', 'L', 'L', 'L', 'L', 'L'], dtype='<U1')"
      ]
     },
     "metadata": {},
     "execution_count": 6
    }
   ],
   "source": [
    "def within_bounds(seats, x, y):\n",
    "    return x < seats.shape[1] and x >= 0 and y < seats.shape[0] and y >= 0\n",
    "\n",
    "def is_taken(seats, x, y):\n",
    "    return seats[y,x] in ['#', 'L']\n",
    "\n",
    "def find_visible_seats(seats, x, y):\n",
    "    directions = [(-1, 0), (-1, 1), (0, 1), (1, 1), (1, 0), (1, -1), (0, -1), (-1, -1)]\n",
    "    line_of_sight = []\n",
    "\n",
    "    for d in directions:\n",
    "        coordinates = (x, y)\n",
    "                \n",
    "        while True:   \n",
    "            coordinates = (coordinates[0] + d[0], coordinates[1] + d[1])\n",
    "            if within_bounds(seats, *coordinates):\n",
    "                if is_taken(seats, *coordinates):\n",
    "                    line_of_sight.append(seats[coordinates[1], coordinates[0]])\n",
    "                    break\n",
    "            else:\n",
    "                break\n",
    "\n",
    "    return np.array(line_of_sight)\n",
    "\n",
    "find_visible_seats(seats, 4, 4)"
   ]
  },
  {
   "cell_type": "code",
   "execution_count": 7,
   "metadata": {},
   "outputs": [],
   "source": [
    "def seat_is_left_with_los(seats, x, y):\n",
    "    seat = seats[y, x]\n",
    "    if seat == '#':\n",
    "        s = find_visible_seats(seats, x, y)\n",
    "        return np.sum(s == '#') >= 5\n",
    "    return False\n",
    "\n",
    "def seat_is_ready_to_be_occupied_with_los(seats, x, y):\n",
    "    seat = seats[y, x]\n",
    "    if seat == 'L':\n",
    "        s = find_visible_seats(seats, x, y)\n",
    "        return np.sum(s == '#') == 0\n",
    "    return False\n",
    "\n",
    "def simulate_seating_with_los(seats):\n",
    "    updated = seats.copy()\n",
    "    for y, row in enumerate(seats):\n",
    "        for x, seat in enumerate(row):\n",
    "            if seat_is_ready_to_be_occupied_with_los(seats, x, y):\n",
    "                updated[y,x] = '#'\n",
    "            if seat_is_left_with_los(seats, x, y):\n",
    "                updated[y,x] = 'L'\n",
    "    \n",
    "    if (seats == updated).all():\n",
    "        return updated, True # stabilized\n",
    "    return updated, False"
   ]
  },
  {
   "cell_type": "code",
   "execution_count": 8,
   "metadata": {},
   "outputs": [
    {
     "output_type": "execute_result",
     "data": {
      "text/plain": [
       "1944"
      ]
     },
     "metadata": {},
     "execution_count": 8
    }
   ],
   "source": [
    "stabilized = False\n",
    "s = seats\n",
    "while not stabilized:\n",
    "    s, stabilized = simulate_seating_with_los(s)\n",
    "\n",
    "len(np.where(s == '#')[0])"
   ]
  }
 ]
}