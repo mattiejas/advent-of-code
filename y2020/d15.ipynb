{
 "metadata": {
  "language_info": {
   "codemirror_mode": {
    "name": "ipython",
    "version": 3
   },
   "file_extension": ".py",
   "mimetype": "text/x-python",
   "name": "python",
   "nbconvert_exporter": "python",
   "pygments_lexer": "ipython3",
   "version": "3.8.6-final"
  },
  "orig_nbformat": 2,
  "kernelspec": {
   "name": "python3",
   "display_name": "Python 3.8.6 64-bit ('advent-of-code': pipenv)",
   "metadata": {
    "interpreter": {
     "hash": "3451c0811e19b5d04077f1fa8065ac00cb5d6199fe8db8edb664c484c0569830"
    }
   }
  }
 },
 "nbformat": 4,
 "nbformat_minor": 2,
 "cells": [
  {
   "cell_type": "code",
   "execution_count": 1,
   "metadata": {},
   "outputs": [],
   "source": [
    "import os\n",
    "import sys\n",
    "sys.path.insert(0, os.path.abspath('../utils'))\n",
    "\n",
    "import numpy as np\n",
    "import file_utils\n",
    "import math"
   ]
  },
  {
   "source": [
    "## --- Day 15: Rambunctious Recitation ---\n",
    "\n",
    "You catch the airport shuttle and try to book a new flight to your vacation island. Due to the storm, all direct flights have been cancelled, but a route is available to get around the storm. You take it.\n",
    "\n",
    "While you wait for your flight, you decide to check in with the Elves back at the North Pole. They're playing a _memory game_ and are <span title=\"Of course they are.\">ever so excited</span> to explain the rules!\n",
    "\n",
    "In this game, the players take turns saying _numbers_. They begin by taking turns reading from a list of _starting numbers_ (your puzzle input). Then, each turn consists of considering the _most recently spoken number_:\n",
    "\n",
    "*   If that was the _first_ time the number has been spoken, the current player says _`0`_.\n",
    "*   Otherwise, the number had been spoken before; the current player announces _how many turns apart_ the number is from when it was previously spoken.\n",
    "\n",
    "So, after the starting numbers, each turn results in that player speaking aloud either _`0`_ (if the last number is new) or an _age_ (if the last number is a repeat).\n",
    "\n",
    "For example, suppose the starting numbers are `0,3,6`:\n",
    "\n",
    "*   _Turn 1_: The `1`st number spoken is a starting number, _`0`_.\n",
    "*   _Turn 2_: The `2`nd number spoken is a starting number, _`3`_.\n",
    "*   _Turn 3_: The `3`rd number spoken is a starting number, _`6`_.\n",
    "*   _Turn 4_: Now, consider the last number spoken, `6`. Since that was the first time the number had been spoken, the `4`th number spoken is _`0`_.\n",
    "*   _Turn 5_: Next, again consider the last number spoken, `0`. Since it _had_ been spoken before, the next number to speak is the difference between the turn number when it was last spoken (the previous turn, `4`) and the turn number of the time it was most recently spoken before then (turn `1`). Thus, the `5`th number spoken is `4 - 1`, _`3`_.\n",
    "*   _Turn 6_: The last number spoken, `3` had also been spoken before, most recently on turns `5` and `2`. So, the `6`th number spoken is `5 - 2`, _`3`_.\n",
    "*   _Turn 7_: Since `3` was just spoken twice in a row, and the last two turns are `1` turn apart, the `7`th number spoken is _`1`_.\n",
    "*   _Turn 8_: Since `1` is new, the `8`th number spoken is _`0`_.\n",
    "*   _Turn 9_: `0` was last spoken on turns `8` and `4`, so the `9`th number spoken is the difference between them, _`4`_.\n",
    "*   _Turn 10_: `4` is new, so the `10`th number spoken is _`0`_.\n",
    "\n",
    "(The game ends when the Elves get sick of playing or dinner is ready, whichever comes first.)\n",
    "\n",
    "Their question for you is: what will be the _`2020`th_ number spoken? In the example above, the `2020`th number spoken will be `436`.\n",
    "\n",
    "Here are a few more examples:\n",
    "\n",
    "*   Given the starting numbers `1,3,2`, the `2020`th number spoken is `1`.\n",
    "*   Given the starting numbers `2,1,3`, the `2020`th number spoken is `10`.\n",
    "*   Given the starting numbers `1,2,3`, the `2020`th number spoken is `27`.\n",
    "*   Given the starting numbers `2,3,1`, the `2020`th number spoken is `78`.\n",
    "*   Given the starting numbers `3,2,1`, the `2020`th number spoken is `438`.\n",
    "*   Given the starting numbers `3,1,2`, the `2020`th number spoken is `1836`.\n",
    "\n",
    "Given your starting numbers, _what will be the `2020`th number spoken?_"
   ],
   "cell_type": "markdown",
   "metadata": {}
  },
  {
   "cell_type": "code",
   "execution_count": 2,
   "metadata": {},
   "outputs": [],
   "source": [
    "data = [7,14,0,17,11,1,2]\n",
    "data_sample = [0,3,6]\n",
    "\n",
    "inp = data"
   ]
  },
  {
   "cell_type": "code",
   "execution_count": 3,
   "metadata": {
    "tags": []
   },
   "outputs": [],
   "source": [
    "def get_nth_number(n):\n",
    "    game = {}\n",
    "    i = 1     # turn starts at 1\n",
    "    \n",
    "    for j, x in enumerate(inp[0:-1]):\n",
    "        i = j + 1\n",
    "        game[x] = i     # save turn of value x\n",
    "    \n",
    "    i = len(inp)\n",
    "    last_spoken = inp[-1]\n",
    "\n",
    "    while i < n:\n",
    "        if last_spoken not in game.keys():     # never seen before\n",
    "            game[last_spoken] = i\n",
    "            last_spoken = 0\n",
    "        else:      \n",
    "            delta = i - game[last_spoken]\n",
    "            game[last_spoken] = i\n",
    "            last_spoken = delta\n",
    "        i += 1\n",
    "\n",
    "    return last_spoken"
   ]
  },
  {
   "cell_type": "code",
   "execution_count": 4,
   "metadata": {
    "tags": []
   },
   "outputs": [
    {
     "output_type": "stream",
     "name": "stdout",
     "text": [
      "Wall time: 0 ns\n"
     ]
    },
    {
     "output_type": "execute_result",
     "data": {
      "text/plain": [
       "206"
      ]
     },
     "metadata": {},
     "execution_count": 4
    }
   ],
   "source": [
    "%%time\n",
    "get_nth_number(2020)"
   ]
  },
  {
   "cell_type": "code",
   "execution_count": 5,
   "metadata": {
    "tags": []
   },
   "outputs": [
    {
     "output_type": "stream",
     "name": "stdout",
     "text": [
      "Wall time: 14.1 s\n"
     ]
    },
    {
     "output_type": "execute_result",
     "data": {
      "text/plain": [
       "955"
      ]
     },
     "metadata": {},
     "execution_count": 5
    }
   ],
   "source": [
    "%%time\n",
    "get_nth_number(30_000_000)"
   ]
  }
 ]
}