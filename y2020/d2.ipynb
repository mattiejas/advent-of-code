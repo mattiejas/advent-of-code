{
 "metadata": {
  "language_info": {
   "codemirror_mode": {
    "name": "ipython",
    "version": 3
   },
   "file_extension": ".py",
   "mimetype": "text/x-python",
   "name": "python",
   "nbconvert_exporter": "python",
   "pygments_lexer": "ipython3",
   "version": "3.7.9-final"
  },
  "orig_nbformat": 2,
  "kernelspec": {
   "name": "pypy3",
   "display_name": "PyPy3"
  }
 },
 "nbformat": 4,
 "nbformat_minor": 2,
 "cells": [
  {
   "cell_type": "code",
   "execution_count": 1,
   "metadata": {},
   "outputs": [],
   "source": [
    "import numpy as np\n",
    "import re"
   ]
  },
  {
   "source": [
    "# Day 2: Password Philosophy\n",
    "Your flight departs in a few days from the coastal airport; the easiest way down to the coast from here is via toboggan.\n",
    "\n",
    "The shopkeeper at the North Pole Toboggan Rental Shop is having a bad day. \"Something's wrong with our computers; we can't log in!\" You ask if you can take a look.\n",
    "\n",
    "Their password database seems to be a little corrupted: some of the passwords wouldn't have been allowed by the Official Toboggan Corporate Policy that was in effect when they were chosen.\n",
    "\n",
    "To try to debug the problem, they have created a list (your puzzle input) of passwords (according to the corrupted database) and the corporate policy when that password was set.\n",
    "\n",
    "For example, suppose you have the following list:\n",
    "\n",
    "```\n",
    "1-3 a: abcde\n",
    "1-3 b: cdefg\n",
    "2-9 c: ccccccccc\n",
    "```\n",
    "\n",
    "Each line gives the password policy and then the password. The password policy indicates the lowest and highest number of times a given letter must appear for the password to be valid. For example, 1-3 a means that the password must contain a at least 1 time and at most 3 times.\n",
    "\n",
    "In the above example, 2 passwords are valid. The middle password, cdefg, is not; it contains no instances of b, but needs at least 1. The first and third passwords are valid: they contain one a or nine c, both within the limits of their respective policies.\n",
    "\n",
    "How many passwords are valid according to their policies?"
   ],
   "cell_type": "markdown",
   "metadata": {}
  },
  {
   "cell_type": "code",
   "execution_count": 2,
   "metadata": {},
   "outputs": [
    {
     "output_type": "execute_result",
     "data": {
      "text/plain": [
       "['1-13 r: gqdrspndrpsrjfjx',\n",
       " '5-16 j: jjjjkjjzjjjjjfjzjjj',\n",
       " '14-16 r: rrrnrrrrrcnrgxrr']"
      ]
     },
     "metadata": {},
     "execution_count": 2
    }
   ],
   "source": [
    "lines = [raw.strip() for raw in open('input/d2.dat').readlines()]\n",
    "lines[0:3]"
   ]
  },
  {
   "cell_type": "code",
   "execution_count": 3,
   "metadata": {},
   "outputs": [
    {
     "output_type": "execute_result",
     "data": {
      "text/plain": [
       "array([( 1, 13, 'r', 'gqdrspndrpsrjfjx'),\n",
       "       ( 5, 16, 'j', 'jjjjkjjzjjjjjfjzjjj'),\n",
       "       (14, 16, 'r', 'rrrnrrrrrcnrgxrr')],\n",
       "      dtype=[('f0', '<i4'), ('f1', '<i4'), ('f2', '<U20'), ('f3', '<U20')])"
      ]
     },
     "metadata": {},
     "execution_count": 3
    }
   ],
   "source": [
    "passwords = np.array([re.search(r'(\\d*)-(\\d*) ([a-z]): ([a-z]*)', line).group(1, 2, 3, 4) for line in lines], dtype='i4,i4,U20,U20')\n",
    "passwords[0:3]"
   ]
  },
  {
   "cell_type": "code",
   "execution_count": 4,
   "metadata": {},
   "outputs": [
    {
     "output_type": "execute_result",
     "data": {
      "text/plain": [
       "True"
      ]
     },
     "metadata": {},
     "execution_count": 4
    }
   ],
   "source": [
    "def check_password(min_occ, max_occ, char, pw) -> bool:\n",
    "    n = pw.count(char)\n",
    "    return n >= min_occ and n <= max_occ\n",
    "\n",
    "check_password(1, 13, 'r', 'gqdrspndrpsrjfjx')"
   ]
  },
  {
   "cell_type": "code",
   "execution_count": 5,
   "metadata": {},
   "outputs": [
    {
     "output_type": "execute_result",
     "data": {
      "text/plain": [
       "600"
      ]
     },
     "metadata": {},
     "execution_count": 5
    }
   ],
   "source": [
    "np.array([check_password(*x) for x in passwords]).sum()"
   ]
  },
  {
   "source": [
    "# Part Two\n",
    "While it appears you validated the passwords correctly, they don't seem to be what the Official Toboggan Corporate Authentication System is expecting.\n",
    "\n",
    "The shopkeeper suddenly realizes that he just accidentally explained the password policy rules from his old job at the sled rental place down the street! The Official Toboggan Corporate Policy actually works a little differently.\n",
    "\n",
    "Each policy actually describes two positions in the password, where 1 means the first character, 2 means the second character, and so on. (Be careful; Toboggan Corporate Policies have no concept of \"index zero\"!) Exactly one of these positions must contain the given letter. Other occurrences of the letter are irrelevant for the purposes of policy enforcement.\n",
    "\n",
    "Given the same example list from above:\n",
    "\n",
    "```\n",
    "1-3 a: abcde is valid: position 1 contains a and position 3 does not.\n",
    "1-3 b: cdefg is invalid: neither position 1 nor position 3 contains b.\n",
    "2-9 c: ccccccccc is invalid: both position 2 and position 9 contain c.\n",
    "```\n",
    "\n",
    "How many passwords are valid according to the new interpretation of the policies?"
   ],
   "cell_type": "markdown",
   "metadata": {}
  },
  {
   "cell_type": "code",
   "execution_count": 6,
   "metadata": {},
   "outputs": [
    {
     "output_type": "execute_result",
     "data": {
      "text/plain": [
       "True"
      ]
     },
     "metadata": {},
     "execution_count": 6
    }
   ],
   "source": [
    "def check_password_2(idx, idx2, char, pw) -> bool:\n",
    "    return bool(pw[idx - 1] == char) != bool(pw[idx2 - 1] == char)\n",
    "\n",
    "check_password_2(1, 13, 'g', 'gqdrspndrpsrjfjx')"
   ]
  },
  {
   "source": [
    "np.array([check_password_2(*x) for x in passwords]).sum()"
   ],
   "cell_type": "code",
   "metadata": {},
   "execution_count": 7,
   "outputs": [
    {
     "output_type": "execute_result",
     "data": {
      "text/plain": [
       "245"
      ]
     },
     "metadata": {},
     "execution_count": 7
    }
   ]
  }
 ]
}