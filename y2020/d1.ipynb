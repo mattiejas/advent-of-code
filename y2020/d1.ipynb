{
 "cells": [
  {
   "cell_type": "code",
   "execution_count": 1,
   "metadata": {},
   "outputs": [],
   "source": [
    "import pandas as pd\n",
    "import numpy as np"
   ]
  },
  {
   "cell_type": "markdown",
   "metadata": {},
   "source": [
    "# Day 1: Report Repair\n",
    "After saving Christmas five years in a row, you've decided to take a vacation at a nice resort on a tropical island. Surely, Christmas will go on without you.\n",
    "\n",
    "The tropical island has its own currency and is entirely cash-only. The gold coins used there have a little picture of a starfish; the locals just call them stars. None of the currency exchanges seem to have heard of them, but somehow, you'll need to find fifty of these coins by the time you arrive so you can pay the deposit on your room.\n",
    "\n",
    "To save your vacation, you need to get all fifty stars by December 25th.\n",
    "\n",
    "Collect stars by solving puzzles. Two puzzles will be made available on each day in the Advent calendar; the second puzzle is unlocked when you complete the first. Each puzzle grants one star. Good luck!\n",
    "\n",
    "Before you leave, the Elves in accounting just need you to fix your expense report (your puzzle input); apparently, something isn't quite adding up.\n",
    "\n",
    "Specifically, they need you to find the two entries that sum to 2020 and then multiply those two numbers together.\n",
    "\n",
    "For example, suppose your expense report contained the following:\n",
    "\n",
    "```\n",
    "1721\n",
    "979\n",
    "366\n",
    "299\n",
    "675\n",
    "1456\n",
    "```\n",
    "\n",
    "In this list, the two entries that sum to 2020 are 1721 and 299. Multiplying them together produces 1721 * 299 = 514579, so the correct answer is 514579.\n",
    "\n",
    "Of course, your expense report is much larger. Find the two entries that sum to 2020; what do you get if you multiply them together?"
   ]
  },
  {
   "cell_type": "code",
   "execution_count": 2,
   "metadata": {},
   "outputs": [
    {
     "output_type": "stream",
     "name": "stdout",
     "text": [
      "(200, 2)\n"
     ]
    },
    {
     "output_type": "execute_result",
     "data": {
      "text/plain": [
       "   expense  key\n",
       "0     1891    1\n",
       "1     1975    1\n",
       "2     1987    1\n",
       "3     1923    1\n",
       "4     1928    1"
      ],
      "text/html": "<div>\n<style scoped>\n    .dataframe tbody tr th:only-of-type {\n        vertical-align: middle;\n    }\n\n    .dataframe tbody tr th {\n        vertical-align: top;\n    }\n\n    .dataframe thead th {\n        text-align: right;\n    }\n</style>\n<table border=\"1\" class=\"dataframe\">\n  <thead>\n    <tr style=\"text-align: right;\">\n      <th></th>\n      <th>expense</th>\n      <th>key</th>\n    </tr>\n  </thead>\n  <tbody>\n    <tr>\n      <th>0</th>\n      <td>1891</td>\n      <td>1</td>\n    </tr>\n    <tr>\n      <th>1</th>\n      <td>1975</td>\n      <td>1</td>\n    </tr>\n    <tr>\n      <th>2</th>\n      <td>1987</td>\n      <td>1</td>\n    </tr>\n    <tr>\n      <th>3</th>\n      <td>1923</td>\n      <td>1</td>\n    </tr>\n    <tr>\n      <th>4</th>\n      <td>1928</td>\n      <td>1</td>\n    </tr>\n  </tbody>\n</table>\n</div>"
     },
     "metadata": {},
     "execution_count": 2
    }
   ],
   "source": [
    "data = pd.read_csv('input/d1.dat', header=None, index_col=False, names=['expense'])\n",
    "data[['key']] = 1\n",
    "\n",
    "print(data.shape)\n",
    "data.head()"
   ]
  },
  {
   "cell_type": "code",
   "execution_count": 3,
   "metadata": {},
   "outputs": [
    {
     "output_type": "execute_result",
     "data": {
      "text/plain": [
       "   expense_x  expense_y\n",
       "0       1891       1891\n",
       "1       1891       1975\n",
       "2       1891       1987\n",
       "3       1891       1923\n",
       "4       1891       1928"
      ],
      "text/html": "<div>\n<style scoped>\n    .dataframe tbody tr th:only-of-type {\n        vertical-align: middle;\n    }\n\n    .dataframe tbody tr th {\n        vertical-align: top;\n    }\n\n    .dataframe thead th {\n        text-align: right;\n    }\n</style>\n<table border=\"1\" class=\"dataframe\">\n  <thead>\n    <tr style=\"text-align: right;\">\n      <th></th>\n      <th>expense_x</th>\n      <th>expense_y</th>\n    </tr>\n  </thead>\n  <tbody>\n    <tr>\n      <th>0</th>\n      <td>1891</td>\n      <td>1891</td>\n    </tr>\n    <tr>\n      <th>1</th>\n      <td>1891</td>\n      <td>1975</td>\n    </tr>\n    <tr>\n      <th>2</th>\n      <td>1891</td>\n      <td>1987</td>\n    </tr>\n    <tr>\n      <th>3</th>\n      <td>1891</td>\n      <td>1923</td>\n    </tr>\n    <tr>\n      <th>4</th>\n      <td>1891</td>\n      <td>1928</td>\n    </tr>\n  </tbody>\n</table>\n</div>"
     },
     "metadata": {},
     "execution_count": 3
    }
   ],
   "source": [
    "M = pd.merge(data, data, how='outer', on='key')[['expense_x', 'expense_y']]\n",
    "M.head()"
   ]
  },
  {
   "cell_type": "code",
   "execution_count": 4,
   "metadata": {},
   "outputs": [
    {
     "output_type": "execute_result",
     "data": {
      "text/plain": [
       "927684"
      ]
     },
     "metadata": {},
     "execution_count": 4
    }
   ],
   "source": [
    "M = M.values\n",
    "y = M[:,0] + M[:,1]\n",
    "expenses = M[np.argmax(y == 2020),:]\n",
    "np.prod(expenses)"
   ]
  },
  {
   "cell_type": "markdown",
   "metadata": {},
   "source": [
    "# Part 2\n",
    "The Elves in accounting are thankful for your help; one of them even offers you a starfish coin they had left over from a past vacation. They offer you a second one if you can find three numbers in your expense report that meet the same criteria.\n",
    "\n",
    "Using the above example again, the three entries that sum to 2020 are 979, 366, and 675. Multiplying them together produces the answer, 241861950.\n",
    "\n",
    "In your expense report, what is the product of the three entries that sum to 2020?"
   ]
  },
  {
   "cell_type": "code",
   "execution_count": 5,
   "metadata": {},
   "outputs": [
    {
     "output_type": "execute_result",
     "data": {
      "text/plain": [
       "   expense  expense_x  expense_y\n",
       "0     1891       1891       1891\n",
       "1     1891       1891       1975\n",
       "2     1891       1891       1987\n",
       "3     1891       1891       1923\n",
       "4     1891       1891       1928"
      ],
      "text/html": "<div>\n<style scoped>\n    .dataframe tbody tr th:only-of-type {\n        vertical-align: middle;\n    }\n\n    .dataframe tbody tr th {\n        vertical-align: top;\n    }\n\n    .dataframe thead th {\n        text-align: right;\n    }\n</style>\n<table border=\"1\" class=\"dataframe\">\n  <thead>\n    <tr style=\"text-align: right;\">\n      <th></th>\n      <th>expense</th>\n      <th>expense_x</th>\n      <th>expense_y</th>\n    </tr>\n  </thead>\n  <tbody>\n    <tr>\n      <th>0</th>\n      <td>1891</td>\n      <td>1891</td>\n      <td>1891</td>\n    </tr>\n    <tr>\n      <th>1</th>\n      <td>1891</td>\n      <td>1891</td>\n      <td>1975</td>\n    </tr>\n    <tr>\n      <th>2</th>\n      <td>1891</td>\n      <td>1891</td>\n      <td>1987</td>\n    </tr>\n    <tr>\n      <th>3</th>\n      <td>1891</td>\n      <td>1891</td>\n      <td>1923</td>\n    </tr>\n    <tr>\n      <th>4</th>\n      <td>1891</td>\n      <td>1891</td>\n      <td>1928</td>\n    </tr>\n  </tbody>\n</table>\n</div>"
     },
     "metadata": {},
     "execution_count": 5
    }
   ],
   "source": [
    "M = pd.merge(data, pd.merge(data, data, how='outer', on='key'), how='outer', on='key')[['expense', 'expense_x', 'expense_y']]\n",
    "M.head()"
   ]
  },
  {
   "cell_type": "code",
   "execution_count": 6,
   "metadata": {},
   "outputs": [
    {
     "output_type": "execute_result",
     "data": {
      "text/plain": [
       "292093004"
      ]
     },
     "metadata": {},
     "execution_count": 6
    }
   ],
   "source": [
    "M = M.values\n",
    "y = M[:,0] + M[:,1] + M[:,2]\n",
    "expenses = M[np.argmax(y == 2020),:]\n",
    "np.prod(expenses)"
   ]
  }
 ],
 "metadata": {
  "kernelspec": {
   "name": "python3",
   "display_name": "Python 3.8.6 64-bit ('venv')",
   "metadata": {
    "interpreter": {
     "hash": "48f9abe5de7bbfdb2147ff301c4ffe775fb5ea1f10bb6c2e235efa75acfe098b"
    }
   }
  },
  "language_info": {
   "codemirror_mode": {
    "name": "ipython",
    "version": 3
   },
   "file_extension": ".py",
   "mimetype": "text/x-python",
   "name": "python",
   "nbconvert_exporter": "python",
   "pygments_lexer": "ipython3",
   "version": "3.8.6-final"
  }
 },
 "nbformat": 4,
 "nbformat_minor": 2
}